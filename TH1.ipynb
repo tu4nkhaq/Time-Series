{
 "cells": [
  {
   "cell_type": "code",
   "execution_count": 75,
   "metadata": {},
   "outputs": [],
   "source": [
    "import pandas as pd\n",
    "import numpy as np\n",
    "import lightgbm as lgb\n",
    "import matplotlib.pyplot as plt\n",
    "import seaborn as sns\n",
    "from sklearn.mixture import BayesianGaussianMixture,GaussianMixture\n",
    "from sklearn.cluster import KMeans\n",
    "from sklearn.cluster import DBSCAN\n"
   ]
  },
  {
   "cell_type": "code",
   "execution_count": 76,
   "metadata": {},
   "outputs": [
    {
     "data": {
      "text/html": [
       "<div>\n",
       "<style scoped>\n",
       "    .dataframe tbody tr th:only-of-type {\n",
       "        vertical-align: middle;\n",
       "    }\n",
       "\n",
       "    .dataframe tbody tr th {\n",
       "        vertical-align: top;\n",
       "    }\n",
       "\n",
       "    .dataframe thead th {\n",
       "        text-align: right;\n",
       "    }\n",
       "</style>\n",
       "<table border=\"1\" class=\"dataframe\">\n",
       "  <thead>\n",
       "    <tr style=\"text-align: right;\">\n",
       "      <th></th>\n",
       "      <th>Ngày</th>\n",
       "      <th>1</th>\n",
       "      <th>2</th>\n",
       "      <th>3</th>\n",
       "      <th>4</th>\n",
       "      <th>5</th>\n",
       "      <th>6</th>\n",
       "      <th>7</th>\n",
       "      <th>8</th>\n",
       "      <th>9</th>\n",
       "      <th>...</th>\n",
       "      <th>39</th>\n",
       "      <th>40</th>\n",
       "      <th>41</th>\n",
       "      <th>42</th>\n",
       "      <th>43</th>\n",
       "      <th>44</th>\n",
       "      <th>45</th>\n",
       "      <th>46</th>\n",
       "      <th>47</th>\n",
       "      <th>48</th>\n",
       "    </tr>\n",
       "  </thead>\n",
       "  <tbody>\n",
       "    <tr>\n",
       "      <th>0</th>\n",
       "      <td>01/01/2021</td>\n",
       "      <td>964.4</td>\n",
       "      <td>964.4</td>\n",
       "      <td>964.4</td>\n",
       "      <td>964.4</td>\n",
       "      <td>964.4</td>\n",
       "      <td>964.4</td>\n",
       "      <td>964.4</td>\n",
       "      <td>964.4</td>\n",
       "      <td>964.4</td>\n",
       "      <td>...</td>\n",
       "      <td>964.4</td>\n",
       "      <td>964.4</td>\n",
       "      <td>964.4</td>\n",
       "      <td>964.4</td>\n",
       "      <td>964.4</td>\n",
       "      <td>964.4</td>\n",
       "      <td>964.4</td>\n",
       "      <td>964.4</td>\n",
       "      <td>964.4</td>\n",
       "      <td>964.4</td>\n",
       "    </tr>\n",
       "    <tr>\n",
       "      <th>1</th>\n",
       "      <td>01/02/2021</td>\n",
       "      <td>1019.7</td>\n",
       "      <td>1019.7</td>\n",
       "      <td>1019.7</td>\n",
       "      <td>1019.7</td>\n",
       "      <td>1019.7</td>\n",
       "      <td>1019.7</td>\n",
       "      <td>1019.7</td>\n",
       "      <td>1019.7</td>\n",
       "      <td>1019.7</td>\n",
       "      <td>...</td>\n",
       "      <td>1019.7</td>\n",
       "      <td>1019.7</td>\n",
       "      <td>1019.7</td>\n",
       "      <td>1019.7</td>\n",
       "      <td>1019.7</td>\n",
       "      <td>1019.7</td>\n",
       "      <td>1019.7</td>\n",
       "      <td>1019.7</td>\n",
       "      <td>1019.7</td>\n",
       "      <td>1019.7</td>\n",
       "    </tr>\n",
       "    <tr>\n",
       "      <th>2</th>\n",
       "      <td>01/03/2021</td>\n",
       "      <td>988.4</td>\n",
       "      <td>988.4</td>\n",
       "      <td>988.4</td>\n",
       "      <td>988.4</td>\n",
       "      <td>988.4</td>\n",
       "      <td>988.4</td>\n",
       "      <td>988.4</td>\n",
       "      <td>988.4</td>\n",
       "      <td>988.4</td>\n",
       "      <td>...</td>\n",
       "      <td>988.4</td>\n",
       "      <td>988.4</td>\n",
       "      <td>988.4</td>\n",
       "      <td>988.4</td>\n",
       "      <td>988.4</td>\n",
       "      <td>988.4</td>\n",
       "      <td>988.4</td>\n",
       "      <td>988.4</td>\n",
       "      <td>988.4</td>\n",
       "      <td>988.4</td>\n",
       "    </tr>\n",
       "    <tr>\n",
       "      <th>3</th>\n",
       "      <td>01/04/2021</td>\n",
       "      <td>1002.0</td>\n",
       "      <td>1002.0</td>\n",
       "      <td>1002.0</td>\n",
       "      <td>1002.0</td>\n",
       "      <td>1002.0</td>\n",
       "      <td>1002.0</td>\n",
       "      <td>1002.0</td>\n",
       "      <td>1002.0</td>\n",
       "      <td>1002.1</td>\n",
       "      <td>...</td>\n",
       "      <td>1010.8</td>\n",
       "      <td>1010.8</td>\n",
       "      <td>1010.8</td>\n",
       "      <td>1010.8</td>\n",
       "      <td>1010.8</td>\n",
       "      <td>1010.8</td>\n",
       "      <td>1010.8</td>\n",
       "      <td>1010.8</td>\n",
       "      <td>1010.8</td>\n",
       "      <td>1010.8</td>\n",
       "    </tr>\n",
       "    <tr>\n",
       "      <th>4</th>\n",
       "      <td>01/05/2021</td>\n",
       "      <td>1061.5</td>\n",
       "      <td>1061.5</td>\n",
       "      <td>1061.5</td>\n",
       "      <td>1061.5</td>\n",
       "      <td>1061.5</td>\n",
       "      <td>1061.5</td>\n",
       "      <td>1061.5</td>\n",
       "      <td>1061.5</td>\n",
       "      <td>1061.5</td>\n",
       "      <td>...</td>\n",
       "      <td>1061.5</td>\n",
       "      <td>1061.5</td>\n",
       "      <td>1061.5</td>\n",
       "      <td>1061.5</td>\n",
       "      <td>1061.5</td>\n",
       "      <td>1061.5</td>\n",
       "      <td>1061.5</td>\n",
       "      <td>1061.5</td>\n",
       "      <td>1061.5</td>\n",
       "      <td>1061.5</td>\n",
       "    </tr>\n",
       "  </tbody>\n",
       "</table>\n",
       "<p>5 rows × 49 columns</p>\n",
       "</div>"
      ],
      "text/plain": [
       "         Ngày       1       2       3       4       5       6       7       8  \\\n",
       "0  01/01/2021   964.4   964.4   964.4   964.4   964.4   964.4   964.4   964.4   \n",
       "1  01/02/2021  1019.7  1019.7  1019.7  1019.7  1019.7  1019.7  1019.7  1019.7   \n",
       "2  01/03/2021   988.4   988.4   988.4   988.4   988.4   988.4   988.4   988.4   \n",
       "3  01/04/2021  1002.0  1002.0  1002.0  1002.0  1002.0  1002.0  1002.0  1002.0   \n",
       "4  01/05/2021  1061.5  1061.5  1061.5  1061.5  1061.5  1061.5  1061.5  1061.5   \n",
       "\n",
       "        9  ...      39      40      41      42      43      44      45  \\\n",
       "0   964.4  ...   964.4   964.4   964.4   964.4   964.4   964.4   964.4   \n",
       "1  1019.7  ...  1019.7  1019.7  1019.7  1019.7  1019.7  1019.7  1019.7   \n",
       "2   988.4  ...   988.4   988.4   988.4   988.4   988.4   988.4   988.4   \n",
       "3  1002.1  ...  1010.8  1010.8  1010.8  1010.8  1010.8  1010.8  1010.8   \n",
       "4  1061.5  ...  1061.5  1061.5  1061.5  1061.5  1061.5  1061.5  1061.5   \n",
       "\n",
       "       46      47      48  \n",
       "0   964.4   964.4   964.4  \n",
       "1  1019.7  1019.7  1019.7  \n",
       "2   988.4   988.4   988.4  \n",
       "3  1010.8  1010.8  1010.8  \n",
       "4  1061.5  1061.5  1061.5  \n",
       "\n",
       "[5 rows x 49 columns]"
      ]
     },
     "execution_count": 76,
     "metadata": {},
     "output_type": "execute_result"
    }
   ],
   "source": [
    "df = pd.read_csv('./data/Gia SMP va SMPcap 2021(Giá thị trường SMP).csv', encoding=\"latin-1\", delimiter=';')\n",
    "df.head()"
   ]
  },
  {
   "cell_type": "code",
   "execution_count": 77,
   "metadata": {},
   "outputs": [],
   "source": [
    "msv = 2151264665\n",
    "col = msv%12 + 1 "
   ]
  },
  {
   "cell_type": "code",
   "execution_count": 78,
   "metadata": {},
   "outputs": [
    {
     "data": {
      "text/html": [
       "<div>\n",
       "<style scoped>\n",
       "    .dataframe tbody tr th:only-of-type {\n",
       "        vertical-align: middle;\n",
       "    }\n",
       "\n",
       "    .dataframe tbody tr th {\n",
       "        vertical-align: top;\n",
       "    }\n",
       "\n",
       "    .dataframe thead th {\n",
       "        text-align: right;\n",
       "    }\n",
       "</style>\n",
       "<table border=\"1\" class=\"dataframe\">\n",
       "  <thead>\n",
       "    <tr style=\"text-align: right;\">\n",
       "      <th></th>\n",
       "      <th>6</th>\n",
       "    </tr>\n",
       "  </thead>\n",
       "  <tbody>\n",
       "    <tr>\n",
       "      <th>0</th>\n",
       "      <td>964.4</td>\n",
       "    </tr>\n",
       "    <tr>\n",
       "      <th>1</th>\n",
       "      <td>1019.7</td>\n",
       "    </tr>\n",
       "    <tr>\n",
       "      <th>2</th>\n",
       "      <td>988.4</td>\n",
       "    </tr>\n",
       "    <tr>\n",
       "      <th>3</th>\n",
       "      <td>1002.0</td>\n",
       "    </tr>\n",
       "    <tr>\n",
       "      <th>4</th>\n",
       "      <td>1061.5</td>\n",
       "    </tr>\n",
       "    <tr>\n",
       "      <th>...</th>\n",
       "      <td>...</td>\n",
       "    </tr>\n",
       "    <tr>\n",
       "      <th>360</th>\n",
       "      <td>1002.0</td>\n",
       "    </tr>\n",
       "    <tr>\n",
       "      <th>361</th>\n",
       "      <td>1002.0</td>\n",
       "    </tr>\n",
       "    <tr>\n",
       "      <th>362</th>\n",
       "      <td>1061.5</td>\n",
       "    </tr>\n",
       "    <tr>\n",
       "      <th>363</th>\n",
       "      <td>1022.6</td>\n",
       "    </tr>\n",
       "    <tr>\n",
       "      <th>364</th>\n",
       "      <td>1022.6</td>\n",
       "    </tr>\n",
       "  </tbody>\n",
       "</table>\n",
       "<p>365 rows × 1 columns</p>\n",
       "</div>"
      ],
      "text/plain": [
       "          6\n",
       "0     964.4\n",
       "1    1019.7\n",
       "2     988.4\n",
       "3    1002.0\n",
       "4    1061.5\n",
       "..      ...\n",
       "360  1002.0\n",
       "361  1002.0\n",
       "362  1061.5\n",
       "363  1022.6\n",
       "364  1022.6\n",
       "\n",
       "[365 rows x 1 columns]"
      ]
     },
     "execution_count": 78,
     "metadata": {},
     "output_type": "execute_result"
    }
   ],
   "source": [
    "data = df[[str(col)]]\n",
    "data"
   ]
  },
  {
   "cell_type": "code",
   "execution_count": 79,
   "metadata": {},
   "outputs": [
    {
     "data": {
      "image/png": "[encoded data removed]",
      "text/plain": [
       "<Figure size 800x550 with 2 Axes>"
      ]
     },
     "metadata": {},
     "output_type": "display_data"
    },
    {
     "data": {
      "text/plain": [
       "<Axes: title={'center': 'Distortion Score Elbow for KMeans Clustering'}, xlabel='k', ylabel='distortion score'>"
      ]
     },
     "execution_count": 79,
     "metadata": {},
     "output_type": "execute_result"
    }
   ],
   "source": [
    "from yellowbrick.cluster import KElbowVisualizer\n",
    "Elbow_M = KElbowVisualizer(KMeans(random_state=23, n_init=10), k=(4,12))\n",
    "Elbow_M.fit(data)\n",
    "Elbow_M.show()"
   ]
  },
  {
   "cell_type": "markdown",
   "metadata": {},
   "source": [
    "# Thực hiện các model"
   ]
  },
  {
   "cell_type": "markdown",
   "metadata": {},
   "source": [
    "* BayesianGaussianMixture"
   ]
  },
  {
   "cell_type": "code",
   "execution_count": 80,
   "metadata": {},
   "outputs": [],
   "source": [
    "BGM = BayesianGaussianMixture(n_components=8,covariance_type='full',random_state=1,n_init=15)\n",
    "# fit model and predict clusters\n",
    "bgm_preds = BGM.fit_predict(data)"
   ]
  },
  {
   "cell_type": "markdown",
   "metadata": {},
   "source": [
    "* Gaussian"
   ]
  },
  {
   "cell_type": "code",
   "execution_count": 81,
   "metadata": {},
   "outputs": [],
   "source": [
    "GMM = GaussianMixture(n_components=8,covariance_type='full',random_state=1,n_init=15)\n",
    "# fit model and predict clusters\n",
    "gmm_preds = GMM.fit_predict(data)"
   ]
  },
  {
   "cell_type": "markdown",
   "metadata": {},
   "source": [
    "* Kmeans"
   ]
  },
  {
   "cell_type": "markdown",
   "metadata": {},
   "source": []
  },
  {
   "cell_type": "code",
   "execution_count": 82,
   "metadata": {},
   "outputs": [],
   "source": [
    "DBscan = DBSCAN(eps=0.5, min_samples=5) # Số clusters có thể điều chỉnh\n",
    "# fit model and predict clusters\n",
    "DBscan_preds = DBscan.fit_predict(data)\n"
   ]
  },
  {
   "cell_type": "markdown",
   "metadata": {},
   "source": [
    "## Trainning"
   ]
  },
  {
   "cell_type": "markdown",
   "metadata": {},
   "source": [
    "* BGM\n"
   ]
  },
  {
   "cell_type": "code",
   "execution_count": 83,
   "metadata": {},
   "outputs": [],
   "source": [
    "pp1=BGM.predict_proba(data)# Calcualting the probabilities of each prediction\n",
    "df_new1=pd.DataFrame(data) \n",
    "df_new1[[f'predict_proba_{i}' for i in range(8)]]=pp1 # creating new dataframe columns of probabilites \n",
    "df_new1['preds']=bgm_preds\n",
    "df_new1['predict_proba']=np.max(pp1,axis=1)\n",
    "df_new1['predict']=np.argmax(pp1,axis=1)\n",
    "    \n",
    "train_index=np.array([])\n",
    "for n in range(8):\n",
    "    n_inx=df_new1[(df_new1.preds==n) & (df_new1.predict_proba > 0.68)].index\n",
    "    train_index = np.concatenate((train_index, n_inx))"
   ]
  },
  {
   "cell_type": "code",
   "execution_count": 84,
   "metadata": {},
   "outputs": [
    {
     "name": "stdout",
     "output_type": "stream",
     "text": [
      "[200]\tvalid_0's multi_logloss: 6.41407e-06\n",
      "[400]\tvalid_0's multi_logloss: 6.41407e-06\n",
      "[200]\tvalid_0's multi_logloss: 6.39422e-06\n",
      "[400]\tvalid_0's multi_logloss: 6.39422e-06\n",
      "[200]\tvalid_0's multi_logloss: 6.39422e-06\n",
      "[400]\tvalid_0's multi_logloss: 6.39422e-06\n",
      "[200]\tvalid_0's multi_logloss: 6.39422e-06\n",
      "[400]\tvalid_0's multi_logloss: 6.39422e-06\n",
      "[200]\tvalid_0's multi_logloss: 6.39422e-06\n",
      "[400]\tvalid_0's multi_logloss: 6.39422e-06\n",
      "[200]\tvalid_0's multi_logloss: 6.39422e-06\n",
      "[400]\tvalid_0's multi_logloss: 6.39422e-06\n",
      "[200]\tvalid_0's multi_logloss: 6.26776e-06\n",
      "[400]\tvalid_0's multi_logloss: 6.26776e-06\n",
      "[200]\tvalid_0's multi_logloss: 6.84467e-06\n",
      "[400]\tvalid_0's multi_logloss: 6.84467e-06\n",
      "[200]\tvalid_0's multi_logloss: 6.46594e-06\n",
      "[400]\tvalid_0's multi_logloss: 6.46594e-06\n",
      "[200]\tvalid_0's multi_logloss: 6.46594e-06\n",
      "[400]\tvalid_0's multi_logloss: 6.46594e-06\n",
      "[200]\tvalid_0's multi_logloss: 6.46594e-06\n",
      "[400]\tvalid_0's multi_logloss: 6.46594e-06\n"
     ]
    }
   ],
   "source": [
    "from sklearn.model_selection import StratifiedKFold\n",
    "X_new=df_new1.loc[train_index]\n",
    "y=df_new1.loc[train_index]['preds']\n",
    "\n",
    "params_lgb = {'learning_rate': 0.06,'objective': 'multiclass','boosting': 'gbdt','n_jobs': -1,'verbosity': -1, 'num_classes':8} \n",
    "\n",
    "model_list=[]\n",
    "\n",
    "gkf = StratifiedKFold(11)\n",
    "for fold, (train_idx, valid_idx) in enumerate(gkf.split(X_new,y)):   \n",
    "\n",
    "    tr_dataset = lgb.Dataset(X_new.iloc[train_idx],y.iloc[train_idx])\n",
    "    vl_dataset = lgb.Dataset(X_new.iloc[valid_idx],y.iloc[valid_idx])\n",
    "    \n",
    "    model = lgb.train(params = params_lgb, \n",
    "                train_set = tr_dataset, \n",
    "                valid_sets =  vl_dataset, \n",
    "                num_boost_round = 5000, \n",
    "                callbacks=[ lgb.early_stopping(stopping_rounds=400, verbose=False), lgb.log_evaluation(period=200)])  \n",
    "    \n",
    "    model_list.append(model) "
   ]
  },
  {
   "cell_type": "code",
   "execution_count": 85,
   "metadata": {},
   "outputs": [],
   "source": [
    "lgb_preds=0\n",
    "for model in model_list:\n",
    "    lgb_preds+=model.predict(df_new1)"
   ]
  },
  {
   "cell_type": "code",
   "execution_count": 86,
   "metadata": {},
   "outputs": [
    {
     "data": {
      "image/png": "[encoded data removed]",
      "text/plain": [
       "<Figure size 800x550 with 1 Axes>"
      ]
     },
     "metadata": {},
     "output_type": "display_data"
    }
   ],
   "source": [
    "pl = sns.countplot(x=np.argmax(lgb_preds,axis=1))\n",
    "pl.set_title(\"Distribution Of The Clusters\")\n",
    "plt.show()"
   ]
  },
  {
   "cell_type": "markdown",
   "metadata": {},
   "source": [
    "* GMM\n"
   ]
  },
  {
   "cell_type": "code",
   "execution_count": 87,
   "metadata": {},
   "outputs": [],
   "source": [
    "pp2=GMM.predict_proba(data)# Calcualting the probabilities of each prediction\n",
    "df_new2=pd.DataFrame(data) \n",
    "df_new2[[f'predict_proba_{i}' for i in range(8)]]=pp2 # creating new dataframe columns of probabilites \n",
    "df_new2['preds']=gmm_preds\n",
    "df_new2['predict_proba']=np.max(pp2,axis=1)\n",
    "df_new2['predict']=np.argmax(pp2,axis=1)\n",
    "    \n",
    "train_index=np.array([])\n",
    "for n in range(8):\n",
    "    n_inx=df_new2[(df_new2.preds==n) & (df_new2.predict_proba > 0.68)].index\n",
    "    train_index = np.concatenate((train_index, n_inx))"
   ]
  },
  {
   "cell_type": "code",
   "execution_count": 88,
   "metadata": {},
   "outputs": [
    {
     "name": "stderr",
     "output_type": "stream",
     "text": [
      "c:\\Users\\ADMIN\\AppData\\Local\\Programs\\Python\\Python312\\Lib\\site-packages\\sklearn\\model_selection\\_split.py:737: UserWarning: The least populated class in y has only 4 members, which is less than n_splits=11.\n",
      "  warnings.warn(\n"
     ]
    },
    {
     "name": "stdout",
     "output_type": "stream",
     "text": [
      "[200]\tvalid_0's multi_logloss: 1.51494e-05\n",
      "[400]\tvalid_0's multi_logloss: 1.51494e-05\n",
      "[200]\tvalid_0's multi_logloss: 1.43907e-05\n",
      "[400]\tvalid_0's multi_logloss: 1.43907e-05\n",
      "[200]\tvalid_0's multi_logloss: 1.43536e-05\n",
      "[400]\tvalid_0's multi_logloss: 1.43536e-05\n",
      "[200]\tvalid_0's multi_logloss: 1.34457e-05\n",
      "[400]\tvalid_0's multi_logloss: 1.34457e-05\n",
      "[200]\tvalid_0's multi_logloss: 1.76011e-05\n",
      "[400]\tvalid_0's multi_logloss: 1.76011e-05\n",
      "[200]\tvalid_0's multi_logloss: 1.78271e-05\n",
      "[400]\tvalid_0's multi_logloss: 1.78271e-05\n",
      "[200]\tvalid_0's multi_logloss: 1.75179e-05\n",
      "[400]\tvalid_0's multi_logloss: 1.75179e-05\n",
      "[200]\tvalid_0's multi_logloss: 1.71793e-05\n",
      "[400]\tvalid_0's multi_logloss: 1.71793e-05\n",
      "[200]\tvalid_0's multi_logloss: 1.64322e-05\n",
      "[400]\tvalid_0's multi_logloss: 1.64322e-05\n",
      "[200]\tvalid_0's multi_logloss: 1.69071e-05\n",
      "[400]\tvalid_0's multi_logloss: 1.69071e-05\n",
      "[200]\tvalid_0's multi_logloss: 1.58779e-05\n",
      "[400]\tvalid_0's multi_logloss: 1.58779e-05\n"
     ]
    }
   ],
   "source": [
    "from sklearn.model_selection import StratifiedKFold\n",
    "X_new=df_new2.loc[train_index]\n",
    "y=df_new2.loc[train_index]['preds']\n",
    "\n",
    "params_lgb = {'learning_rate': 0.06,'objective': 'multiclass','boosting': 'gbdt','n_jobs': -1,'verbosity': -1, 'num_classes':8} \n",
    "\n",
    "model_list=[]\n",
    "\n",
    "gkf = StratifiedKFold(11)\n",
    "for fold, (train_idx, valid_idx) in enumerate(gkf.split(X_new,y)):   \n",
    "\n",
    "    tr_dataset = lgb.Dataset(X_new.iloc[train_idx],y.iloc[train_idx])\n",
    "    vl_dataset = lgb.Dataset(X_new.iloc[valid_idx],y.iloc[valid_idx])\n",
    "    \n",
    "    model = lgb.train(params = params_lgb, \n",
    "                train_set = tr_dataset, \n",
    "                valid_sets =  vl_dataset, \n",
    "                num_boost_round = 5000, \n",
    "                callbacks=[ lgb.early_stopping(stopping_rounds=400, verbose=False), lgb.log_evaluation(period=200)])  \n",
    "    \n",
    "    model_list.append(model) "
   ]
  },
  {
   "cell_type": "code",
   "execution_count": 89,
   "metadata": {},
   "outputs": [],
   "source": [
    "lgb_preds=0\n",
    "for model in model_list:\n",
    "    lgb_preds+=model.predict(df_new2)"
   ]
  },
  {
   "cell_type": "code",
   "execution_count": 90,
   "metadata": {},
   "outputs": [
    {
     "data": {
      "image/png": "[encoded data removed]",
      "text/plain": [
       "<Figure size 800x550 with 1 Axes>"
      ]
     },
     "metadata": {},
     "output_type": "display_data"
    }
   ],
   "source": [
    "pl = sns.countplot(x=np.argmax(lgb_preds,axis=1))\n",
    "pl.set_title(\"Distribution Of The Clusters\")\n",
    "plt.show()"
   ]
  },
  {
   "cell_type": "markdown",
   "metadata": {},
   "source": [
    "* Kmeans\n"
   ]
  },
  {
   "cell_type": "code",
   "execution_count": 91,
   "metadata": {},
   "outputs": [
    {
     "ename": "AttributeError",
     "evalue": "'DBSCAN' object has no attribute 'predict_proba'",
     "output_type": "error",
     "traceback": [
      "\u001b[1;31m---------------------------------------------------------------------------\u001b[0m",
      "\u001b[1;31mAttributeError\u001b[0m                            Traceback (most recent call last)",
      "Cell \u001b[1;32mIn[91], line 1\u001b[0m\n\u001b[1;32m----> 1\u001b[0m pp3\u001b[38;5;241m=\u001b[39m\u001b[43mDBscan\u001b[49m\u001b[38;5;241;43m.\u001b[39;49m\u001b[43mpredict_proba\u001b[49m(data)\u001b[38;5;66;03m# Calcualting the probabilities of each prediction\u001b[39;00m\n\u001b[0;32m      2\u001b[0m df_new3\u001b[38;5;241m=\u001b[39mpd\u001b[38;5;241m.\u001b[39mDataFrame(data) \n\u001b[0;32m      3\u001b[0m df_new3[[\u001b[38;5;124mf\u001b[39m\u001b[38;5;124m'\u001b[39m\u001b[38;5;124mpredict_proba_\u001b[39m\u001b[38;5;132;01m{\u001b[39;00mi\u001b[38;5;132;01m}\u001b[39;00m\u001b[38;5;124m'\u001b[39m \u001b[38;5;28;01mfor\u001b[39;00m i \u001b[38;5;129;01min\u001b[39;00m \u001b[38;5;28mrange\u001b[39m(\u001b[38;5;241m8\u001b[39m)]]\u001b[38;5;241m=\u001b[39mpp3 \u001b[38;5;66;03m# creating new dataframe columns of probabilites \u001b[39;00m\n",
      "\u001b[1;31mAttributeError\u001b[0m: 'DBSCAN' object has no attribute 'predict_proba'"
     ]
    }
   ],
   "source": [
    "pp3=DBscan.predict_proba(data)# Calcualting the probabilities of each prediction\n",
    "df_new3=pd.DataFrame(data) \n",
    "df_new3[[f'predict_proba_{i}' for i in range(8)]]=pp3 # creating new dataframe columns of probabilites \n",
    "df_new3['preds']=bgm_preds\n",
    "df_new3['predict_proba']=np.max(pp3,axis=1)\n",
    "df_new3['predict']=np.argmax(pp3,axis=1)\n",
    "    \n",
    "train_index=np.array([])\n",
    "for n in range(8):\n",
    "    n_inx=df_new3[(df_new3.preds==n) & (df_new3.predict_proba > 0.68)].index\n",
    "    train_index = np.concatenate((train_index, n_inx))"
   ]
  },
  {
   "cell_type": "code",
   "execution_count": null,
   "metadata": {},
   "outputs": [],
   "source": [
    "from sklearn.model_selection import StratifiedKFold\n",
    "X_new=df_new.loc[train_index]\n",
    "y=df_new.loc[train_index]['preds']\n",
    "\n",
    "params_lgb = {'learning_rate': 0.06,'objective': 'multiclass','boosting': 'gbdt','n_jobs': -1,'verbosity': -1, 'num_classes':8} \n",
    "\n",
    "model_list=[]\n",
    "\n",
    "gkf = StratifiedKFold(11)\n",
    "for fold, (train_idx, valid_idx) in enumerate(gkf.split(X_new,y)):   \n",
    "\n",
    "    tr_dataset = lgb.Dataset(X_new.iloc[train_idx],y.iloc[train_idx])\n",
    "    vl_dataset = lgb.Dataset(X_new.iloc[valid_idx],y.iloc[valid_idx])\n",
    "    \n",
    "    model = lgb.train(params = params_lgb, \n",
    "                train_set = tr_dataset, \n",
    "                valid_sets =  vl_dataset, \n",
    "                num_boost_round = 5000, \n",
    "                callbacks=[ lgb.early_stopping(stopping_rounds=400, verbose=False), lgb.log_evaluation(period=200)])  \n",
    "    \n",
    "    model_list.append(model) "
   ]
  },
  {
   "cell_type": "code",
   "execution_count": null,
   "metadata": {},
   "outputs": [],
   "source": [
    "lgb_preds=0\n",
    "for model in model_list:\n",
    "    lgb_preds+=model.predict(df_new)"
   ]
  },
  {
   "cell_type": "code",
   "execution_count": null,
   "metadata": {},
   "outputs": [],
   "source": [
    "pl = sns.countplot(x=np.argmax(lgb_preds,axis=1))\n",
    "pl.set_title(\"Distribution Of The Clusters\")\n",
    "plt.show()"
   ]
  }
 ],
 "metadata": {
  "kernelspec": {
   "display_name": "Python 3",
   "language": "python",
   "name": "python3"
  },
  "language_info": {
   "codemirror_mode": {
    "name": "ipython",
    "version": 3
   },
   "file_extension": ".py",
   "mimetype": "text/x-python",
   "name": "python",
   "nbconvert_exporter": "python",
   "pygments_lexer": "ipython3",
   "version": "3.12.3"
  }
 },
 "nbformat": 4,
 "nbformat_minor": 2
}
