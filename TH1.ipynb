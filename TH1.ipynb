{
 "cells": [
  {
   "cell_type": "code",
   "execution_count": 5,
   "metadata": {},
   "outputs": [
    {
     "ename": "AttributeError",
     "evalue": "partially initialized module 'pandas' has no attribute '_pandas_parser_CAPI' (most likely due to a circular import)",
     "output_type": "error",
     "traceback": [
      "\u001b[1;31m---------------------------------------------------------------------------\u001b[0m",
      "\u001b[1;31mAttributeError\u001b[0m                            Traceback (most recent call last)",
      "Cell \u001b[1;32mIn[5], line 1\u001b[0m\n\u001b[1;32m----> 1\u001b[0m \u001b[38;5;28;01mimport\u001b[39;00m \u001b[38;5;21;01mpandas\u001b[39;00m \u001b[38;5;28;01mas\u001b[39;00m \u001b[38;5;21;01mpd\u001b[39;00m\n\u001b[0;32m      2\u001b[0m \u001b[38;5;28;01mimport\u001b[39;00m \u001b[38;5;21;01mnumpy\u001b[39;00m \u001b[38;5;28;01mas\u001b[39;00m \u001b[38;5;21;01mnp\u001b[39;00m\n\u001b[0;32m      3\u001b[0m \u001b[38;5;28;01mimport\u001b[39;00m \u001b[38;5;21;01mlightgbm\u001b[39;00m \u001b[38;5;28;01mas\u001b[39;00m \u001b[38;5;21;01mlgb\u001b[39;00m\n",
      "File \u001b[1;32mc:\\Users\\ADMIN\\AppData\\Local\\Programs\\Python\\Python312\\Lib\\site-packages\\pandas\\__init__.py:151\u001b[0m\n\u001b[0;32m    132\u001b[0m \u001b[38;5;28;01mfrom\u001b[39;00m \u001b[38;5;21;01mpandas\u001b[39;00m\u001b[38;5;21;01m.\u001b[39;00m\u001b[38;5;21;01mcore\u001b[39;00m\u001b[38;5;21;01m.\u001b[39;00m\u001b[38;5;21;01mcomputation\u001b[39;00m\u001b[38;5;21;01m.\u001b[39;00m\u001b[38;5;21;01mapi\u001b[39;00m \u001b[38;5;28;01mimport\u001b[39;00m \u001b[38;5;28meval\u001b[39m\n\u001b[0;32m    134\u001b[0m \u001b[38;5;28;01mfrom\u001b[39;00m \u001b[38;5;21;01mpandas\u001b[39;00m\u001b[38;5;21;01m.\u001b[39;00m\u001b[38;5;21;01mcore\u001b[39;00m\u001b[38;5;21;01m.\u001b[39;00m\u001b[38;5;21;01mreshape\u001b[39;00m\u001b[38;5;21;01m.\u001b[39;00m\u001b[38;5;21;01mapi\u001b[39;00m \u001b[38;5;28;01mimport\u001b[39;00m (\n\u001b[0;32m    135\u001b[0m     concat,\n\u001b[0;32m    136\u001b[0m     lreshape,\n\u001b[1;32m   (...)\u001b[0m\n\u001b[0;32m    148\u001b[0m     qcut,\n\u001b[0;32m    149\u001b[0m )\n\u001b[1;32m--> 151\u001b[0m \u001b[38;5;28;01mfrom\u001b[39;00m \u001b[38;5;21;01mpandas\u001b[39;00m \u001b[38;5;28;01mimport\u001b[39;00m api, arrays, errors, io, plotting, tseries\n\u001b[0;32m    152\u001b[0m \u001b[38;5;28;01mfrom\u001b[39;00m \u001b[38;5;21;01mpandas\u001b[39;00m \u001b[38;5;28;01mimport\u001b[39;00m testing\n\u001b[0;32m    153\u001b[0m \u001b[38;5;28;01mfrom\u001b[39;00m \u001b[38;5;21;01mpandas\u001b[39;00m\u001b[38;5;21;01m.\u001b[39;00m\u001b[38;5;21;01mutil\u001b[39;00m\u001b[38;5;21;01m.\u001b[39;00m\u001b[38;5;21;01m_print_versions\u001b[39;00m \u001b[38;5;28;01mimport\u001b[39;00m show_versions\n",
      "File \u001b[1;32mc:\\Users\\ADMIN\\AppData\\Local\\Programs\\Python\\Python312\\Lib\\site-packages\\pandas\\api\\__init__.py:2\u001b[0m\n\u001b[0;32m      1\u001b[0m \u001b[38;5;124;03m\"\"\" public toolkit API \"\"\"\u001b[39;00m\n\u001b[1;32m----> 2\u001b[0m \u001b[38;5;28;01mfrom\u001b[39;00m \u001b[38;5;21;01mpandas\u001b[39;00m\u001b[38;5;21;01m.\u001b[39;00m\u001b[38;5;21;01mapi\u001b[39;00m \u001b[38;5;28;01mimport\u001b[39;00m (\n\u001b[0;32m      3\u001b[0m     extensions,\n\u001b[0;32m      4\u001b[0m     indexers,\n\u001b[0;32m      5\u001b[0m     interchange,\n\u001b[0;32m      6\u001b[0m     types,\n\u001b[0;32m      7\u001b[0m     typing,\n\u001b[0;32m      8\u001b[0m )\n\u001b[0;32m     10\u001b[0m __all__ \u001b[38;5;241m=\u001b[39m [\n\u001b[0;32m     11\u001b[0m     \u001b[38;5;124m\"\u001b[39m\u001b[38;5;124minterchange\u001b[39m\u001b[38;5;124m\"\u001b[39m,\n\u001b[0;32m     12\u001b[0m     \u001b[38;5;124m\"\u001b[39m\u001b[38;5;124mextensions\u001b[39m\u001b[38;5;124m\"\u001b[39m,\n\u001b[1;32m   (...)\u001b[0m\n\u001b[0;32m     15\u001b[0m     \u001b[38;5;124m\"\u001b[39m\u001b[38;5;124mtyping\u001b[39m\u001b[38;5;124m\"\u001b[39m,\n\u001b[0;32m     16\u001b[0m ]\n",
      "File \u001b[1;32mc:\\Users\\ADMIN\\AppData\\Local\\Programs\\Python\\Python312\\Lib\\site-packages\\pandas\\api\\typing\\__init__.py:31\u001b[0m\n\u001b[0;32m     19\u001b[0m \u001b[38;5;28;01mfrom\u001b[39;00m \u001b[38;5;21;01mpandas\u001b[39;00m\u001b[38;5;21;01m.\u001b[39;00m\u001b[38;5;21;01mcore\u001b[39;00m\u001b[38;5;21;01m.\u001b[39;00m\u001b[38;5;21;01mwindow\u001b[39;00m \u001b[38;5;28;01mimport\u001b[39;00m (\n\u001b[0;32m     20\u001b[0m     Expanding,\n\u001b[0;32m     21\u001b[0m     ExpandingGroupby,\n\u001b[1;32m   (...)\u001b[0m\n\u001b[0;32m     26\u001b[0m     Window,\n\u001b[0;32m     27\u001b[0m )\n\u001b[0;32m     29\u001b[0m \u001b[38;5;66;03m# TODO: Can't import Styler without importing jinja2\u001b[39;00m\n\u001b[0;32m     30\u001b[0m \u001b[38;5;66;03m# from pandas.io.formats.style import Styler\u001b[39;00m\n\u001b[1;32m---> 31\u001b[0m \u001b[38;5;28;01mfrom\u001b[39;00m \u001b[38;5;21;01mpandas\u001b[39;00m\u001b[38;5;21;01m.\u001b[39;00m\u001b[38;5;21;01mio\u001b[39;00m\u001b[38;5;21;01m.\u001b[39;00m\u001b[38;5;21;01mjson\u001b[39;00m\u001b[38;5;21;01m.\u001b[39;00m\u001b[38;5;21;01m_json\u001b[39;00m \u001b[38;5;28;01mimport\u001b[39;00m JsonReader\n\u001b[0;32m     32\u001b[0m \u001b[38;5;28;01mfrom\u001b[39;00m \u001b[38;5;21;01mpandas\u001b[39;00m\u001b[38;5;21;01m.\u001b[39;00m\u001b[38;5;21;01mio\u001b[39;00m\u001b[38;5;21;01m.\u001b[39;00m\u001b[38;5;21;01mstata\u001b[39;00m \u001b[38;5;28;01mimport\u001b[39;00m StataReader\n\u001b[0;32m     34\u001b[0m __all__ \u001b[38;5;241m=\u001b[39m [\n\u001b[0;32m     35\u001b[0m     \u001b[38;5;124m\"\u001b[39m\u001b[38;5;124mDataFrameGroupBy\u001b[39m\u001b[38;5;124m\"\u001b[39m,\n\u001b[0;32m     36\u001b[0m     \u001b[38;5;124m\"\u001b[39m\u001b[38;5;124mDatetimeIndexResamplerGroupby\u001b[39m\u001b[38;5;124m\"\u001b[39m,\n\u001b[1;32m   (...)\u001b[0m\n\u001b[0;32m     54\u001b[0m     \u001b[38;5;124m\"\u001b[39m\u001b[38;5;124mWindow\u001b[39m\u001b[38;5;124m\"\u001b[39m,\n\u001b[0;32m     55\u001b[0m ]\n",
      "File \u001b[1;32mc:\\Users\\ADMIN\\AppData\\Local\\Programs\\Python\\Python312\\Lib\\site-packages\\pandas\\io\\json\\__init__.py:1\u001b[0m\n\u001b[1;32m----> 1\u001b[0m \u001b[38;5;28;01mfrom\u001b[39;00m \u001b[38;5;21;01mpandas\u001b[39;00m\u001b[38;5;21;01m.\u001b[39;00m\u001b[38;5;21;01mio\u001b[39;00m\u001b[38;5;21;01m.\u001b[39;00m\u001b[38;5;21;01mjson\u001b[39;00m\u001b[38;5;21;01m.\u001b[39;00m\u001b[38;5;21;01m_json\u001b[39;00m \u001b[38;5;28;01mimport\u001b[39;00m (\n\u001b[0;32m      2\u001b[0m     read_json,\n\u001b[0;32m      3\u001b[0m     to_json,\n\u001b[0;32m      4\u001b[0m     ujson_dumps,\n\u001b[0;32m      5\u001b[0m     ujson_loads,\n\u001b[0;32m      6\u001b[0m )\n\u001b[0;32m      7\u001b[0m \u001b[38;5;28;01mfrom\u001b[39;00m \u001b[38;5;21;01mpandas\u001b[39;00m\u001b[38;5;21;01m.\u001b[39;00m\u001b[38;5;21;01mio\u001b[39;00m\u001b[38;5;21;01m.\u001b[39;00m\u001b[38;5;21;01mjson\u001b[39;00m\u001b[38;5;21;01m.\u001b[39;00m\u001b[38;5;21;01m_table_schema\u001b[39;00m \u001b[38;5;28;01mimport\u001b[39;00m build_table_schema\n\u001b[0;32m      9\u001b[0m __all__ \u001b[38;5;241m=\u001b[39m [\n\u001b[0;32m     10\u001b[0m     \u001b[38;5;124m\"\u001b[39m\u001b[38;5;124mujson_dumps\u001b[39m\u001b[38;5;124m\"\u001b[39m,\n\u001b[0;32m     11\u001b[0m     \u001b[38;5;124m\"\u001b[39m\u001b[38;5;124mujson_loads\u001b[39m\u001b[38;5;124m\"\u001b[39m,\n\u001b[1;32m   (...)\u001b[0m\n\u001b[0;32m     14\u001b[0m     \u001b[38;5;124m\"\u001b[39m\u001b[38;5;124mbuild_table_schema\u001b[39m\u001b[38;5;124m\"\u001b[39m,\n\u001b[0;32m     15\u001b[0m ]\n",
      "File \u001b[1;32mc:\\Users\\ADMIN\\AppData\\Local\\Programs\\Python\\Python312\\Lib\\site-packages\\pandas\\io\\json\\_json.py:71\u001b[0m\n\u001b[0;32m     66\u001b[0m \u001b[38;5;28;01mfrom\u001b[39;00m \u001b[38;5;21;01mpandas\u001b[39;00m\u001b[38;5;21;01m.\u001b[39;00m\u001b[38;5;21;01mio\u001b[39;00m\u001b[38;5;21;01m.\u001b[39;00m\u001b[38;5;21;01mjson\u001b[39;00m\u001b[38;5;21;01m.\u001b[39;00m\u001b[38;5;21;01m_normalize\u001b[39;00m \u001b[38;5;28;01mimport\u001b[39;00m convert_to_line_delimits\n\u001b[0;32m     67\u001b[0m \u001b[38;5;28;01mfrom\u001b[39;00m \u001b[38;5;21;01mpandas\u001b[39;00m\u001b[38;5;21;01m.\u001b[39;00m\u001b[38;5;21;01mio\u001b[39;00m\u001b[38;5;21;01m.\u001b[39;00m\u001b[38;5;21;01mjson\u001b[39;00m\u001b[38;5;21;01m.\u001b[39;00m\u001b[38;5;21;01m_table_schema\u001b[39;00m \u001b[38;5;28;01mimport\u001b[39;00m (\n\u001b[0;32m     68\u001b[0m     build_table_schema,\n\u001b[0;32m     69\u001b[0m     parse_table_schema,\n\u001b[0;32m     70\u001b[0m )\n\u001b[1;32m---> 71\u001b[0m \u001b[38;5;28;01mfrom\u001b[39;00m \u001b[38;5;21;01mpandas\u001b[39;00m\u001b[38;5;21;01m.\u001b[39;00m\u001b[38;5;21;01mio\u001b[39;00m\u001b[38;5;21;01m.\u001b[39;00m\u001b[38;5;21;01mparsers\u001b[39;00m\u001b[38;5;21;01m.\u001b[39;00m\u001b[38;5;21;01mreaders\u001b[39;00m \u001b[38;5;28;01mimport\u001b[39;00m validate_integer\n\u001b[0;32m     73\u001b[0m \u001b[38;5;28;01mif\u001b[39;00m TYPE_CHECKING:\n\u001b[0;32m     74\u001b[0m     \u001b[38;5;28;01mfrom\u001b[39;00m \u001b[38;5;21;01mcollections\u001b[39;00m\u001b[38;5;21;01m.\u001b[39;00m\u001b[38;5;21;01mabc\u001b[39;00m \u001b[38;5;28;01mimport\u001b[39;00m (\n\u001b[0;32m     75\u001b[0m         Hashable,\n\u001b[0;32m     76\u001b[0m         Mapping,\n\u001b[0;32m     77\u001b[0m     )\n",
      "File \u001b[1;32mc:\\Users\\ADMIN\\AppData\\Local\\Programs\\Python\\Python312\\Lib\\site-packages\\pandas\\io\\parsers\\__init__.py:1\u001b[0m\n\u001b[1;32m----> 1\u001b[0m \u001b[38;5;28;01mfrom\u001b[39;00m \u001b[38;5;21;01mpandas\u001b[39;00m\u001b[38;5;21;01m.\u001b[39;00m\u001b[38;5;21;01mio\u001b[39;00m\u001b[38;5;21;01m.\u001b[39;00m\u001b[38;5;21;01mparsers\u001b[39;00m\u001b[38;5;21;01m.\u001b[39;00m\u001b[38;5;21;01mreaders\u001b[39;00m \u001b[38;5;28;01mimport\u001b[39;00m (\n\u001b[0;32m      2\u001b[0m     TextFileReader,\n\u001b[0;32m      3\u001b[0m     TextParser,\n\u001b[0;32m      4\u001b[0m     read_csv,\n\u001b[0;32m      5\u001b[0m     read_fwf,\n\u001b[0;32m      6\u001b[0m     read_table,\n\u001b[0;32m      7\u001b[0m )\n\u001b[0;32m      9\u001b[0m __all__ \u001b[38;5;241m=\u001b[39m [\u001b[38;5;124m\"\u001b[39m\u001b[38;5;124mTextFileReader\u001b[39m\u001b[38;5;124m\"\u001b[39m, \u001b[38;5;124m\"\u001b[39m\u001b[38;5;124mTextParser\u001b[39m\u001b[38;5;124m\"\u001b[39m, \u001b[38;5;124m\"\u001b[39m\u001b[38;5;124mread_csv\u001b[39m\u001b[38;5;124m\"\u001b[39m, \u001b[38;5;124m\"\u001b[39m\u001b[38;5;124mread_fwf\u001b[39m\u001b[38;5;124m\"\u001b[39m, \u001b[38;5;124m\"\u001b[39m\u001b[38;5;124mread_table\u001b[39m\u001b[38;5;124m\"\u001b[39m]\n",
      "File \u001b[1;32mc:\\Users\\ADMIN\\AppData\\Local\\Programs\\Python\\Python312\\Lib\\site-packages\\pandas\\io\\parsers\\readers.py:32\u001b[0m\n\u001b[0;32m     29\u001b[0m \u001b[38;5;28;01mfrom\u001b[39;00m \u001b[38;5;21;01mpandas\u001b[39;00m\u001b[38;5;21;01m.\u001b[39;00m\u001b[38;5;21;01m_config\u001b[39;00m \u001b[38;5;28;01mimport\u001b[39;00m using_copy_on_write\n\u001b[0;32m     31\u001b[0m \u001b[38;5;28;01mfrom\u001b[39;00m \u001b[38;5;21;01mpandas\u001b[39;00m\u001b[38;5;21;01m.\u001b[39;00m\u001b[38;5;21;01m_libs\u001b[39;00m \u001b[38;5;28;01mimport\u001b[39;00m lib\n\u001b[1;32m---> 32\u001b[0m \u001b[38;5;28;01mfrom\u001b[39;00m \u001b[38;5;21;01mpandas\u001b[39;00m\u001b[38;5;21;01m.\u001b[39;00m\u001b[38;5;21;01m_libs\u001b[39;00m\u001b[38;5;21;01m.\u001b[39;00m\u001b[38;5;21;01mparsers\u001b[39;00m \u001b[38;5;28;01mimport\u001b[39;00m STR_NA_VALUES\n\u001b[0;32m     33\u001b[0m \u001b[38;5;28;01mfrom\u001b[39;00m \u001b[38;5;21;01mpandas\u001b[39;00m\u001b[38;5;21;01m.\u001b[39;00m\u001b[38;5;21;01merrors\u001b[39;00m \u001b[38;5;28;01mimport\u001b[39;00m (\n\u001b[0;32m     34\u001b[0m     AbstractMethodError,\n\u001b[0;32m     35\u001b[0m     ParserWarning,\n\u001b[0;32m     36\u001b[0m )\n\u001b[0;32m     37\u001b[0m \u001b[38;5;28;01mfrom\u001b[39;00m \u001b[38;5;21;01mpandas\u001b[39;00m\u001b[38;5;21;01m.\u001b[39;00m\u001b[38;5;21;01mutil\u001b[39;00m\u001b[38;5;21;01m.\u001b[39;00m\u001b[38;5;21;01m_decorators\u001b[39;00m \u001b[38;5;28;01mimport\u001b[39;00m Appender\n",
      "File \u001b[1;32mparsers.pyx:1418\u001b[0m, in \u001b[0;36minit pandas._libs.parsers\u001b[1;34m()\u001b[0m\n",
      "\u001b[1;31mAttributeError\u001b[0m: partially initialized module 'pandas' has no attribute '_pandas_parser_CAPI' (most likely due to a circular import)"
     ]
    }
   ],
   "source": [
    "import pandas as pd\n",
    "import numpy as np\n",
    "import lightgbm as lgb\n",
    "import matplotlib.pyplot as plt\n",
    "import seaborn as sns\n",
    "from sklearn.mixture import BayesianGaussianMixture,GaussianMixture\n",
    "from sklearn.cluster import KMeans\n",
    "from sklearn.cluster import DBSCAN\n"
   ]
  },
  {
   "cell_type": "code",
   "execution_count": null,
   "metadata": {},
   "outputs": [
    {
     "data": {
      "text/html": [
       "<div>\n",
       "<style scoped>\n",
       "    .dataframe tbody tr th:only-of-type {\n",
       "        vertical-align: middle;\n",
       "    }\n",
       "\n",
       "    .dataframe tbody tr th {\n",
       "        vertical-align: top;\n",
       "    }\n",
       "\n",
       "    .dataframe thead th {\n",
       "        text-align: right;\n",
       "    }\n",
       "</style>\n",
       "<table border=\"1\" class=\"dataframe\">\n",
       "  <thead>\n",
       "    <tr style=\"text-align: right;\">\n",
       "      <th></th>\n",
       "      <th>Ngày</th>\n",
       "      <th>1</th>\n",
       "      <th>2</th>\n",
       "      <th>3</th>\n",
       "      <th>4</th>\n",
       "      <th>5</th>\n",
       "      <th>6</th>\n",
       "      <th>7</th>\n",
       "      <th>8</th>\n",
       "      <th>9</th>\n",
       "      <th>...</th>\n",
       "      <th>39</th>\n",
       "      <th>40</th>\n",
       "      <th>41</th>\n",
       "      <th>42</th>\n",
       "      <th>43</th>\n",
       "      <th>44</th>\n",
       "      <th>45</th>\n",
       "      <th>46</th>\n",
       "      <th>47</th>\n",
       "      <th>48</th>\n",
       "    </tr>\n",
       "  </thead>\n",
       "  <tbody>\n",
       "    <tr>\n",
       "      <th>0</th>\n",
       "      <td>01/01/2021</td>\n",
       "      <td>964.4</td>\n",
       "      <td>964.4</td>\n",
       "      <td>964.4</td>\n",
       "      <td>964.4</td>\n",
       "      <td>964.4</td>\n",
       "      <td>964.4</td>\n",
       "      <td>964.4</td>\n",
       "      <td>964.4</td>\n",
       "      <td>964.4</td>\n",
       "      <td>...</td>\n",
       "      <td>964.4</td>\n",
       "      <td>964.4</td>\n",
       "      <td>964.4</td>\n",
       "      <td>964.4</td>\n",
       "      <td>964.4</td>\n",
       "      <td>964.4</td>\n",
       "      <td>964.4</td>\n",
       "      <td>964.4</td>\n",
       "      <td>964.4</td>\n",
       "      <td>964.4</td>\n",
       "    </tr>\n",
       "    <tr>\n",
       "      <th>1</th>\n",
       "      <td>01/02/2021</td>\n",
       "      <td>1019.7</td>\n",
       "      <td>1019.7</td>\n",
       "      <td>1019.7</td>\n",
       "      <td>1019.7</td>\n",
       "      <td>1019.7</td>\n",
       "      <td>1019.7</td>\n",
       "      <td>1019.7</td>\n",
       "      <td>1019.7</td>\n",
       "      <td>1019.7</td>\n",
       "      <td>...</td>\n",
       "      <td>1019.7</td>\n",
       "      <td>1019.7</td>\n",
       "      <td>1019.7</td>\n",
       "      <td>1019.7</td>\n",
       "      <td>1019.7</td>\n",
       "      <td>1019.7</td>\n",
       "      <td>1019.7</td>\n",
       "      <td>1019.7</td>\n",
       "      <td>1019.7</td>\n",
       "      <td>1019.7</td>\n",
       "    </tr>\n",
       "    <tr>\n",
       "      <th>2</th>\n",
       "      <td>01/03/2021</td>\n",
       "      <td>988.4</td>\n",
       "      <td>988.4</td>\n",
       "      <td>988.4</td>\n",
       "      <td>988.4</td>\n",
       "      <td>988.4</td>\n",
       "      <td>988.4</td>\n",
       "      <td>988.4</td>\n",
       "      <td>988.4</td>\n",
       "      <td>988.4</td>\n",
       "      <td>...</td>\n",
       "      <td>988.4</td>\n",
       "      <td>988.4</td>\n",
       "      <td>988.4</td>\n",
       "      <td>988.4</td>\n",
       "      <td>988.4</td>\n",
       "      <td>988.4</td>\n",
       "      <td>988.4</td>\n",
       "      <td>988.4</td>\n",
       "      <td>988.4</td>\n",
       "      <td>988.4</td>\n",
       "    </tr>\n",
       "    <tr>\n",
       "      <th>3</th>\n",
       "      <td>01/04/2021</td>\n",
       "      <td>1002.0</td>\n",
       "      <td>1002.0</td>\n",
       "      <td>1002.0</td>\n",
       "      <td>1002.0</td>\n",
       "      <td>1002.0</td>\n",
       "      <td>1002.0</td>\n",
       "      <td>1002.0</td>\n",
       "      <td>1002.0</td>\n",
       "      <td>1002.1</td>\n",
       "      <td>...</td>\n",
       "      <td>1010.8</td>\n",
       "      <td>1010.8</td>\n",
       "      <td>1010.8</td>\n",
       "      <td>1010.8</td>\n",
       "      <td>1010.8</td>\n",
       "      <td>1010.8</td>\n",
       "      <td>1010.8</td>\n",
       "      <td>1010.8</td>\n",
       "      <td>1010.8</td>\n",
       "      <td>1010.8</td>\n",
       "    </tr>\n",
       "    <tr>\n",
       "      <th>4</th>\n",
       "      <td>01/05/2021</td>\n",
       "      <td>1061.5</td>\n",
       "      <td>1061.5</td>\n",
       "      <td>1061.5</td>\n",
       "      <td>1061.5</td>\n",
       "      <td>1061.5</td>\n",
       "      <td>1061.5</td>\n",
       "      <td>1061.5</td>\n",
       "      <td>1061.5</td>\n",
       "      <td>1061.5</td>\n",
       "      <td>...</td>\n",
       "      <td>1061.5</td>\n",
       "      <td>1061.5</td>\n",
       "      <td>1061.5</td>\n",
       "      <td>1061.5</td>\n",
       "      <td>1061.5</td>\n",
       "      <td>1061.5</td>\n",
       "      <td>1061.5</td>\n",
       "      <td>1061.5</td>\n",
       "      <td>1061.5</td>\n",
       "      <td>1061.5</td>\n",
       "    </tr>\n",
       "  </tbody>\n",
       "</table>\n",
       "<p>5 rows × 49 columns</p>\n",
       "</div>"
      ],
      "text/plain": [
       "         Ngày       1       2       3       4       5       6       7       8  \\\n",
       "0  01/01/2021   964.4   964.4   964.4   964.4   964.4   964.4   964.4   964.4   \n",
       "1  01/02/2021  1019.7  1019.7  1019.7  1019.7  1019.7  1019.7  1019.7  1019.7   \n",
       "2  01/03/2021   988.4   988.4   988.4   988.4   988.4   988.4   988.4   988.4   \n",
       "3  01/04/2021  1002.0  1002.0  1002.0  1002.0  1002.0  1002.0  1002.0  1002.0   \n",
       "4  01/05/2021  1061.5  1061.5  1061.5  1061.5  1061.5  1061.5  1061.5  1061.5   \n",
       "\n",
       "        9  ...      39      40      41      42      43      44      45  \\\n",
       "0   964.4  ...   964.4   964.4   964.4   964.4   964.4   964.4   964.4   \n",
       "1  1019.7  ...  1019.7  1019.7  1019.7  1019.7  1019.7  1019.7  1019.7   \n",
       "2   988.4  ...   988.4   988.4   988.4   988.4   988.4   988.4   988.4   \n",
       "3  1002.1  ...  1010.8  1010.8  1010.8  1010.8  1010.8  1010.8  1010.8   \n",
       "4  1061.5  ...  1061.5  1061.5  1061.5  1061.5  1061.5  1061.5  1061.5   \n",
       "\n",
       "       46      47      48  \n",
       "0   964.4   964.4   964.4  \n",
       "1  1019.7  1019.7  1019.7  \n",
       "2   988.4   988.4   988.4  \n",
       "3  1010.8  1010.8  1010.8  \n",
       "4  1061.5  1061.5  1061.5  \n",
       "\n",
       "[5 rows x 49 columns]"
      ]
     },
     "execution_count": 203,
     "metadata": {},
     "output_type": "execute_result"
    }
   ],
   "source": [
    "df = pd.read_csv('./data/Gia SMP va SMPcap 2021(Giá thị trường SMP).csv', encoding=\"latin-1\", delimiter=';')\n",
    "df.head()"
   ]
  },
  {
   "cell_type": "code",
   "execution_count": null,
   "metadata": {},
   "outputs": [],
   "source": [
    "msv = 2151264665\n",
    "col = msv%12 + 1 "
   ]
  },
  {
   "cell_type": "code",
   "execution_count": null,
   "metadata": {},
   "outputs": [
    {
     "data": {
      "text/html": [
       "<div>\n",
       "<style scoped>\n",
       "    .dataframe tbody tr th:only-of-type {\n",
       "        vertical-align: middle;\n",
       "    }\n",
       "\n",
       "    .dataframe tbody tr th {\n",
       "        vertical-align: top;\n",
       "    }\n",
       "\n",
       "    .dataframe thead th {\n",
       "        text-align: right;\n",
       "    }\n",
       "</style>\n",
       "<table border=\"1\" class=\"dataframe\">\n",
       "  <thead>\n",
       "    <tr style=\"text-align: right;\">\n",
       "      <th></th>\n",
       "      <th>6</th>\n",
       "    </tr>\n",
       "  </thead>\n",
       "  <tbody>\n",
       "    <tr>\n",
       "      <th>0</th>\n",
       "      <td>964.4</td>\n",
       "    </tr>\n",
       "    <tr>\n",
       "      <th>1</th>\n",
       "      <td>1019.7</td>\n",
       "    </tr>\n",
       "    <tr>\n",
       "      <th>2</th>\n",
       "      <td>988.4</td>\n",
       "    </tr>\n",
       "    <tr>\n",
       "      <th>3</th>\n",
       "      <td>1002.0</td>\n",
       "    </tr>\n",
       "    <tr>\n",
       "      <th>4</th>\n",
       "      <td>1061.5</td>\n",
       "    </tr>\n",
       "    <tr>\n",
       "      <th>...</th>\n",
       "      <td>...</td>\n",
       "    </tr>\n",
       "    <tr>\n",
       "      <th>360</th>\n",
       "      <td>1002.0</td>\n",
       "    </tr>\n",
       "    <tr>\n",
       "      <th>361</th>\n",
       "      <td>1002.0</td>\n",
       "    </tr>\n",
       "    <tr>\n",
       "      <th>362</th>\n",
       "      <td>1061.5</td>\n",
       "    </tr>\n",
       "    <tr>\n",
       "      <th>363</th>\n",
       "      <td>1022.6</td>\n",
       "    </tr>\n",
       "    <tr>\n",
       "      <th>364</th>\n",
       "      <td>1022.6</td>\n",
       "    </tr>\n",
       "  </tbody>\n",
       "</table>\n",
       "<p>365 rows × 1 columns</p>\n",
       "</div>"
      ],
      "text/plain": [
       "          6\n",
       "0     964.4\n",
       "1    1019.7\n",
       "2     988.4\n",
       "3    1002.0\n",
       "4    1061.5\n",
       "..      ...\n",
       "360  1002.0\n",
       "361  1002.0\n",
       "362  1061.5\n",
       "363  1022.6\n",
       "364  1022.6\n",
       "\n",
       "[365 rows x 1 columns]"
      ]
     },
     "execution_count": 205,
     "metadata": {},
     "output_type": "execute_result"
    }
   ],
   "source": [
    "data = df[[str(col)]]\n",
    "data"
   ]
  },
  {
   "cell_type": "code",
   "execution_count": null,
   "metadata": {},
   "outputs": [
    {
     "data": {
      "image/png": "[encoded data removed]",
      "text/plain": [
       "<Figure size 800x550 with 2 Axes>"
      ]
     },
     "metadata": {},
     "output_type": "display_data"
    },
    {
     "data": {
      "text/plain": [
       "<Axes: title={'center': 'Distortion Score Elbow for KMeans Clustering'}, xlabel='k', ylabel='distortion score'>"
      ]
     },
     "execution_count": 206,
     "metadata": {},
     "output_type": "execute_result"
    }
   ],
   "source": [
    "from yellowbrick.cluster import KElbowVisualizer\n",
    "Elbow_M = KElbowVisualizer(KMeans(random_state=23, n_init=10), k=(4,12))\n",
    "Elbow_M.fit(data)\n",
    "Elbow_M.show()"
   ]
  },
  {
   "cell_type": "markdown",
   "metadata": {},
   "source": [
    "# Thực hiện các model"
   ]
  },
  {
   "cell_type": "markdown",
   "metadata": {},
   "source": [
    "* BayesianGaussianMixture"
   ]
  },
  {
   "cell_type": "code",
   "execution_count": null,
   "metadata": {},
   "outputs": [],
   "source": [
    "BGM = BayesianGaussianMixture(n_components=8,covariance_type='full',random_state=1,n_init=15)\n",
    "# fit model and predict clusters\n",
    "bgm_preds = BGM.fit_predict(data)"
   ]
  },
  {
   "cell_type": "markdown",
   "metadata": {},
   "source": [
    "* Gaussian"
   ]
  },
  {
   "cell_type": "code",
   "execution_count": null,
   "metadata": {},
   "outputs": [],
   "source": [
    "GMM = GaussianMixture(n_components=8)\n",
    "# fit model and predict clusters\n",
    "gmm_preds = GMM.fit_predict(data)"
   ]
  },
  {
   "cell_type": "markdown",
   "metadata": {},
   "source": [
    "* Kmeans"
   ]
  },
  {
   "cell_type": "markdown",
   "metadata": {},
   "source": []
  },
  {
   "cell_type": "code",
   "execution_count": null,
   "metadata": {},
   "outputs": [],
   "source": [
    "Kmeans = KMeans(n_clusters=8) # Số clusters có thể điều chỉnh\n",
    "# fit model and predict clusters\n",
    "kmean_preds = Kmeans.fit_predict(data)"
   ]
  },
  {
   "cell_type": "markdown",
   "metadata": {},
   "source": [
    "## Trainning"
   ]
  },
  {
   "cell_type": "markdown",
   "metadata": {},
   "source": [
    "* BGM\n"
   ]
  },
  {
   "cell_type": "code",
   "execution_count": null,
   "metadata": {},
   "outputs": [],
   "source": [
    "pp=BGM.predict_proba(data)# Calcualting the probabilities of each prediction\n",
    "df_new=pd.DataFrame(data) \n",
    "df_new[[f'predict_proba_{i}' for i in range(8)]]=pp # creating new dataframe columns of probabilites \n",
    "df_new['preds']=bgm_preds\n",
    "df_new['predict_proba']=np.max(pp,axis=1)\n",
    "df_new['predict']=np.argmax(pp,axis=1)\n",
    "    \n",
    "train_index=np.array([])\n",
    "for n in range(8):\n",
    "    n_inx=df_new[(df_new.preds==n) & (df_new.predict_proba > 0.68)].index\n",
    "    train_index = np.concatenate((train_index, n_inx))"
   ]
  },
  {
   "cell_type": "code",
   "execution_count": null,
   "metadata": {},
   "outputs": [
    {
     "name": "stdout",
     "output_type": "stream",
     "text": [
      "[200]\tvalid_0's multi_logloss: 6.41407e-06\n",
      "[400]\tvalid_0's multi_logloss: 6.41407e-06\n",
      "[200]\tvalid_0's multi_logloss: 6.39422e-06\n",
      "[400]\tvalid_0's multi_logloss: 6.39422e-06\n",
      "[200]\tvalid_0's multi_logloss: 6.39422e-06\n",
      "[400]\tvalid_0's multi_logloss: 6.39422e-06\n",
      "[200]\tvalid_0's multi_logloss: 6.39422e-06\n",
      "[400]\tvalid_0's multi_logloss: 6.39422e-06\n",
      "[200]\tvalid_0's multi_logloss: 6.39422e-06\n",
      "[400]\tvalid_0's multi_logloss: 6.39422e-06\n",
      "[200]\tvalid_0's multi_logloss: 6.39422e-06\n",
      "[400]\tvalid_0's multi_logloss: 6.39422e-06\n",
      "[200]\tvalid_0's multi_logloss: 6.26776e-06\n",
      "[400]\tvalid_0's multi_logloss: 6.26776e-06\n",
      "[200]\tvalid_0's multi_logloss: 6.84467e-06\n",
      "[400]\tvalid_0's multi_logloss: 6.84467e-06\n",
      "[200]\tvalid_0's multi_logloss: 6.46594e-06\n",
      "[400]\tvalid_0's multi_logloss: 6.46594e-06\n",
      "[200]\tvalid_0's multi_logloss: 6.46594e-06\n",
      "[400]\tvalid_0's multi_logloss: 6.46594e-06\n",
      "[200]\tvalid_0's multi_logloss: 6.46594e-06\n",
      "[400]\tvalid_0's multi_logloss: 6.46594e-06\n"
     ]
    }
   ],
   "source": [
    "from sklearn.model_selection import StratifiedKFold\n",
    "X_new=df_new.loc[train_index]\n",
    "y=df_new.loc[train_index]['preds']\n",
    "\n",
    "params_lgb = {'learning_rate': 0.06,'objective': 'multiclass','boosting': 'gbdt','n_jobs': -1,'verbosity': -1, 'num_classes':8} \n",
    "\n",
    "model_list=[]\n",
    "\n",
    "gkf = StratifiedKFold(11)\n",
    "for fold, (train_idx, valid_idx) in enumerate(gkf.split(X_new,y)):   \n",
    "\n",
    "    tr_dataset = lgb.Dataset(X_new.iloc[train_idx],y.iloc[train_idx])\n",
    "    vl_dataset = lgb.Dataset(X_new.iloc[valid_idx],y.iloc[valid_idx])\n",
    "    \n",
    "    model = lgb.train(params = params_lgb, \n",
    "                train_set = tr_dataset, \n",
    "                valid_sets =  vl_dataset, \n",
    "                num_boost_round = 5000, \n",
    "                callbacks=[ lgb.early_stopping(stopping_rounds=400, verbose=False), lgb.log_evaluation(period=200)])  \n",
    "    \n",
    "    model_list.append(model) "
   ]
  },
  {
   "cell_type": "code",
   "execution_count": null,
   "metadata": {},
   "outputs": [],
   "source": [
    "lgb_preds=0\n",
    "for model in model_list:\n",
    "    lgb_preds+=model.predict(df_new)"
   ]
  },
  {
   "cell_type": "code",
   "execution_count": null,
   "metadata": {},
   "outputs": [
    {
     "data": {
      "image/png": "[encoded data removed]",
      "text/plain": [
       "<Figure size 800x550 with 1 Axes>"
      ]
     },
     "metadata": {},
     "output_type": "display_data"
    }
   ],
   "source": [
    "pl = sns.countplot(x=np.argmax(lgb_preds,axis=1))\n",
    "pl.set_title(\"Distribution Of The Clusters\")\n",
    "plt.show()"
   ]
  },
  {
   "cell_type": "code",
   "execution_count": null,
   "metadata": {},
   "outputs": [],
   "source": []
  },
  {
   "cell_type": "markdown",
   "metadata": {},
   "source": [
    "* GMM\n"
   ]
  },
  {
   "cell_type": "code",
   "execution_count": null,
   "metadata": {},
   "outputs": [],
   "source": [
    "pp=GMM.predict_proba(data)# Calcualting the probabilities of each prediction\n",
    "df_new=pd.DataFrame(data) \n",
    "df_new[[f'predict_proba_{i}' for i in range(8)]]=pp # creating new dataframe columns of probabilites \n",
    "df_new['preds']=gmm_preds\n",
    "df_new['predict_proba']=np.max(pp,axis=1)\n",
    "df_new['predict']=np.argmax(pp,axis=1)\n",
    "    \n",
    "train_index=np.array([])\n",
    "for n in range(8):\n",
    "    n_inx=df_new[(df_new.preds==n) & (df_new.predict_proba > 0.68)].index\n",
    "    train_index = np.concatenate((train_index, n_inx))"
   ]
  },
  {
   "cell_type": "code",
   "execution_count": null,
   "metadata": {},
   "outputs": [
    {
     "name": "stderr",
     "output_type": "stream",
     "text": [
      "c:\\Users\\ADMIN\\AppData\\Local\\Programs\\Python\\Python312\\Lib\\site-packages\\sklearn\\model_selection\\_split.py:737: UserWarning: The least populated class in y has only 4 members, which is less than n_splits=11.\n",
      "  warnings.warn(\n"
     ]
    },
    {
     "name": "stdout",
     "output_type": "stream",
     "text": [
      "[200]\tvalid_0's multi_logloss: 1.70708e-05\n",
      "[400]\tvalid_0's multi_logloss: 1.70708e-05\n",
      "[200]\tvalid_0's multi_logloss: 1.65617e-05\n",
      "[400]\tvalid_0's multi_logloss: 1.65617e-05\n",
      "[200]\tvalid_0's multi_logloss: 1.55397e-05\n",
      "[400]\tvalid_0's multi_logloss: 1.55397e-05\n",
      "[200]\tvalid_0's multi_logloss: 1.63005e-05\n",
      "[400]\tvalid_0's multi_logloss: 1.63005e-05\n",
      "[200]\tvalid_0's multi_logloss: 1.67127e-05\n",
      "[400]\tvalid_0's multi_logloss: 1.67127e-05\n",
      "[200]\tvalid_0's multi_logloss: 1.62425e-05\n",
      "[400]\tvalid_0's multi_logloss: 1.62425e-05\n",
      "[200]\tvalid_0's multi_logloss: 1.64326e-05\n",
      "[400]\tvalid_0's multi_logloss: 1.64326e-05\n",
      "[200]\tvalid_0's multi_logloss: 0.0723699\n",
      "[400]\tvalid_0's multi_logloss: 0.0723699\n",
      "[200]\tvalid_0's multi_logloss: 1.28212e-05\n",
      "[400]\tvalid_0's multi_logloss: 1.28212e-05\n",
      "[200]\tvalid_0's multi_logloss: 1.6295e-05\n",
      "[400]\tvalid_0's multi_logloss: 1.6295e-05\n",
      "[200]\tvalid_0's multi_logloss: 1.61558e-05\n",
      "[400]\tvalid_0's multi_logloss: 1.61558e-05\n"
     ]
    }
   ],
   "source": [
    "from sklearn.model_selection import StratifiedKFold\n",
    "X_new=df_new.loc[train_index]\n",
    "y=df_new.loc[train_index]['preds']\n",
    "\n",
    "params_lgb = {'learning_rate': 0.06,'objective': 'multiclass','boosting': 'gbdt','n_jobs': -1,'verbosity': -1, 'num_classes':8} \n",
    "\n",
    "model_list=[]\n",
    "\n",
    "gkf = StratifiedKFold(11)\n",
    "for fold, (train_idx, valid_idx) in enumerate(gkf.split(X_new,y)):   \n",
    "\n",
    "    tr_dataset = lgb.Dataset(X_new.iloc[train_idx],y.iloc[train_idx])\n",
    "    vl_dataset = lgb.Dataset(X_new.iloc[valid_idx],y.iloc[valid_idx])\n",
    "    \n",
    "    model = lgb.train(params = params_lgb, \n",
    "                train_set = tr_dataset, \n",
    "                valid_sets =  vl_dataset, \n",
    "                num_boost_round = 5000, \n",
    "                callbacks=[ lgb.early_stopping(stopping_rounds=400, verbose=False), lgb.log_evaluation(period=200)])  \n",
    "    \n",
    "    model_list.append(model) "
   ]
  },
  {
   "cell_type": "code",
   "execution_count": null,
   "metadata": {},
   "outputs": [],
   "source": [
    "lgb_preds=0\n",
    "for model in model_list:\n",
    "    lgb_preds+=model.predict(df_new)"
   ]
  },
  {
   "cell_type": "code",
   "execution_count": null,
   "metadata": {},
   "outputs": [
    {
     "data": {
      "image/png": "[encoded data removed]",
      "text/plain": [
       "<Figure size 800x550 with 1 Axes>"
      ]
     },
     "metadata": {},
     "output_type": "display_data"
    }
   ],
   "source": [
    "pl = sns.countplot(x=np.argmax(lgb_preds,axis=1))\n",
    "pl.set_title(\"Distribution Of The Clusters\")\n",
    "plt.show()"
   ]
  },
  {
   "cell_type": "markdown",
   "metadata": {},
   "source": [
    "* Kmeans\n"
   ]
  },
  {
   "cell_type": "code",
   "execution_count": null,
   "metadata": {},
   "outputs": [
    {
     "ename": "AttributeError",
     "evalue": "'KMeans' object has no attribute 'predict_proba'",
     "output_type": "error",
     "traceback": [
      "\u001b[1;31m---------------------------------------------------------------------------\u001b[0m",
      "\u001b[1;31mAttributeError\u001b[0m                            Traceback (most recent call last)",
      "Cell \u001b[1;32mIn[218], line 1\u001b[0m\n\u001b[1;32m----> 1\u001b[0m pp\u001b[38;5;241m=\u001b[39m\u001b[43mKmeans\u001b[49m\u001b[38;5;241;43m.\u001b[39;49m\u001b[43mpredict_proba\u001b[49m(data)\u001b[38;5;66;03m# Calcualting the probabilities of each prediction\u001b[39;00m\n\u001b[0;32m      2\u001b[0m df_new\u001b[38;5;241m=\u001b[39mpd\u001b[38;5;241m.\u001b[39mDataFrame(data) \n\u001b[0;32m      3\u001b[0m df_new[[\u001b[38;5;124mf\u001b[39m\u001b[38;5;124m'\u001b[39m\u001b[38;5;124mpredict_proba_\u001b[39m\u001b[38;5;132;01m{\u001b[39;00mi\u001b[38;5;132;01m}\u001b[39;00m\u001b[38;5;124m'\u001b[39m \u001b[38;5;28;01mfor\u001b[39;00m i \u001b[38;5;129;01min\u001b[39;00m \u001b[38;5;28mrange\u001b[39m(\u001b[38;5;241m8\u001b[39m)]]\u001b[38;5;241m=\u001b[39mpp \u001b[38;5;66;03m# creating new dataframe columns of probabilites \u001b[39;00m\n",
      "\u001b[1;31mAttributeError\u001b[0m: 'KMeans' object has no attribute 'predict_proba'"
     ]
    }
   ],
   "source": [
    "pp=Kmeans.predict_proba(data)# Calcualting the probabilities of each prediction\n",
    "df_new=pd.DataFrame(data) \n",
    "df_new[[f'predict_proba_{i}' for i in range(8)]]=pp # creating new dataframe columns of probabilites \n",
    "df_new['preds']=bgm_preds\n",
    "df_new['predict_proba']=np.max(pp,axis=1)\n",
    "df_new['predict']=np.argmax(pp,axis=1)\n",
    "    \n",
    "train_index=np.array([])\n",
    "for n in range(8):\n",
    "    n_inx=df_new[(df_new.preds==n) & (df_new.predict_proba > 0.68)].index\n",
    "    train_index = np.concatenate((train_index, n_inx))"
   ]
  },
  {
   "cell_type": "code",
   "execution_count": null,
   "metadata": {},
   "outputs": [],
   "source": [
    "from sklearn.model_selection import StratifiedKFold\n",
    "X_new=df_new.loc[train_index]\n",
    "y=df_new.loc[train_index]['preds']\n",
    "\n",
    "params_lgb = {'learning_rate': 0.06,'objective': 'multiclass','boosting': 'gbdt','n_jobs': -1,'verbosity': -1, 'num_classes':8} \n",
    "\n",
    "model_list=[]\n",
    "\n",
    "gkf = StratifiedKFold(11)\n",
    "for fold, (train_idx, valid_idx) in enumerate(gkf.split(X_new,y)):   \n",
    "\n",
    "    tr_dataset = lgb.Dataset(X_new.iloc[train_idx],y.iloc[train_idx])\n",
    "    vl_dataset = lgb.Dataset(X_new.iloc[valid_idx],y.iloc[valid_idx])\n",
    "    \n",
    "    model = lgb.train(params = params_lgb, \n",
    "                train_set = tr_dataset, \n",
    "                valid_sets =  vl_dataset, \n",
    "                num_boost_round = 5000, \n",
    "                callbacks=[ lgb.early_stopping(stopping_rounds=400, verbose=False), lgb.log_evaluation(period=200)])  \n",
    "    \n",
    "    model_list.append(model) "
   ]
  },
  {
   "cell_type": "code",
   "execution_count": null,
   "metadata": {},
   "outputs": [],
   "source": [
    "lgb_preds=0\n",
    "for model in model_list:\n",
    "    lgb_preds+=model.predict(df_new)"
   ]
  },
  {
   "cell_type": "code",
   "execution_count": null,
   "metadata": {},
   "outputs": [],
   "source": [
    "pl = sns.countplot(x=np.argmax(lgb_preds,axis=1))\n",
    "pl.set_title(\"Distribution Of The Clusters\")\n",
    "plt.show()"
   ]
  }
 ],
 "metadata": {
  "kernelspec": {
   "display_name": "Python 3",
   "language": "python",
   "name": "python3"
  },
  "language_info": {
   "codemirror_mode": {
    "name": "ipython",
    "version": 3
   },
   "file_extension": ".py",
   "mimetype": "text/x-python",
   "name": "python",
   "nbconvert_exporter": "python",
   "pygments_lexer": "ipython3",
   "version": "3.12.3"
  }
 },
 "nbformat": 4,
 "nbformat_minor": 2
}
