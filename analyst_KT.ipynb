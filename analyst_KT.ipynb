{
 "cells": [
  {
   "cell_type": "code",
   "execution_count": 39,
   "metadata": {},
   "outputs": [],
   "source": [
    "import pandas as pd\n",
    "from statsmodels.tsa.statespace.sarimax import SARIMAX\n",
    "from pmdarima import auto_arima\n",
    "import matplotlib.pyplot as plt"
   ]
  },
  {
   "cell_type": "code",
   "execution_count": 40,
   "metadata": {},
   "outputs": [
    {
     "data": {
      "text/html": [
       "<div>\n",
       "<style scoped>\n",
       "    .dataframe tbody tr th:only-of-type {\n",
       "        vertical-align: middle;\n",
       "    }\n",
       "\n",
       "    .dataframe tbody tr th {\n",
       "        vertical-align: top;\n",
       "    }\n",
       "\n",
       "    .dataframe thead th {\n",
       "        text-align: right;\n",
       "    }\n",
       "</style>\n",
       "<table border=\"1\" class=\"dataframe\">\n",
       "  <thead>\n",
       "    <tr style=\"text-align: right;\">\n",
       "      <th></th>\n",
       "      <th>date</th>\n",
       "      <th>truong_1</th>\n",
       "      <th>truong_2</th>\n",
       "      <th>truong_3</th>\n",
       "      <th>truong_4</th>\n",
       "      <th>truong_5</th>\n",
       "    </tr>\n",
       "  </thead>\n",
       "  <tbody>\n",
       "    <tr>\n",
       "      <th>0</th>\n",
       "      <td>10.05.2013</td>\n",
       "      <td>4</td>\n",
       "      <td>58</td>\n",
       "      <td>3773</td>\n",
       "      <td>299.0</td>\n",
       "      <td>1</td>\n",
       "    </tr>\n",
       "    <tr>\n",
       "      <th>1</th>\n",
       "      <td>26.05.2013</td>\n",
       "      <td>4</td>\n",
       "      <td>58</td>\n",
       "      <td>3768</td>\n",
       "      <td>249.0</td>\n",
       "      <td>1</td>\n",
       "    </tr>\n",
       "    <tr>\n",
       "      <th>2</th>\n",
       "      <td>19.05.2013</td>\n",
       "      <td>4</td>\n",
       "      <td>58</td>\n",
       "      <td>4036</td>\n",
       "      <td>419.0</td>\n",
       "      <td>1</td>\n",
       "    </tr>\n",
       "    <tr>\n",
       "      <th>3</th>\n",
       "      <td>25.05.2013</td>\n",
       "      <td>4</td>\n",
       "      <td>58</td>\n",
       "      <td>12878</td>\n",
       "      <td>149.0</td>\n",
       "      <td>1</td>\n",
       "    </tr>\n",
       "    <tr>\n",
       "      <th>4</th>\n",
       "      <td>15.05.2013</td>\n",
       "      <td>4</td>\n",
       "      <td>58</td>\n",
       "      <td>12885</td>\n",
       "      <td>148.0</td>\n",
       "      <td>1</td>\n",
       "    </tr>\n",
       "    <tr>\n",
       "      <th>...</th>\n",
       "      <td>...</td>\n",
       "      <td>...</td>\n",
       "      <td>...</td>\n",
       "      <td>...</td>\n",
       "      <td>...</td>\n",
       "      <td>...</td>\n",
       "    </tr>\n",
       "    <tr>\n",
       "      <th>550033</th>\n",
       "      <td>07.11.2013</td>\n",
       "      <td>10</td>\n",
       "      <td>37</td>\n",
       "      <td>18474</td>\n",
       "      <td>199.0</td>\n",
       "      <td>1</td>\n",
       "    </tr>\n",
       "    <tr>\n",
       "      <th>550034</th>\n",
       "      <td>18.11.2013</td>\n",
       "      <td>10</td>\n",
       "      <td>37</td>\n",
       "      <td>18474</td>\n",
       "      <td>199.0</td>\n",
       "      <td>1</td>\n",
       "    </tr>\n",
       "    <tr>\n",
       "      <th>550035</th>\n",
       "      <td>24.11.2013</td>\n",
       "      <td>10</td>\n",
       "      <td>37</td>\n",
       "      <td>18484</td>\n",
       "      <td>199.0</td>\n",
       "      <td>1</td>\n",
       "    </tr>\n",
       "    <tr>\n",
       "      <th>550036</th>\n",
       "      <td>11.11.2013</td>\n",
       "      <td>10</td>\n",
       "      <td>37</td>\n",
       "      <td>19751</td>\n",
       "      <td>99.0</td>\n",
       "      <td>1</td>\n",
       "    </tr>\n",
       "    <tr>\n",
       "      <th>550037</th>\n",
       "      <td>26.11.2013</td>\n",
       "      <td>10</td>\n",
       "      <td>37</td>\n",
       "      <td>18498</td>\n",
       "      <td>199.0</td>\n",
       "      <td>1</td>\n",
       "    </tr>\n",
       "  </tbody>\n",
       "</table>\n",
       "<p>550038 rows × 6 columns</p>\n",
       "</div>"
      ],
      "text/plain": [
       "              date  truong_1  truong_2  truong_3  truong_4  truong_5\n",
       "0       10.05.2013         4        58      3773     299.0         1\n",
       "1       26.05.2013         4        58      3768     249.0         1\n",
       "2       19.05.2013         4        58      4036     419.0         1\n",
       "3       25.05.2013         4        58     12878     149.0         1\n",
       "4       15.05.2013         4        58     12885     148.0         1\n",
       "...            ...       ...       ...       ...       ...       ...\n",
       "550033  07.11.2013        10        37     18474     199.0         1\n",
       "550034  18.11.2013        10        37     18474     199.0         1\n",
       "550035  24.11.2013        10        37     18484     199.0         1\n",
       "550036  11.11.2013        10        37     19751      99.0         1\n",
       "550037  26.11.2013        10        37     18498     199.0         1\n",
       "\n",
       "[550038 rows x 6 columns]"
      ]
     },
     "execution_count": 40,
     "metadata": {},
     "output_type": "execute_result"
    }
   ],
   "source": [
    "df = pd.read_csv('data/data-kiem-tra-2.csv')\n",
    "df"
   ]
  },
  {
   "cell_type": "code",
   "execution_count": 41,
   "metadata": {},
   "outputs": [
    {
     "data": {
      "text/plain": [
       "array([ 4,  5,  6,  7,  8,  9, 10], dtype=int64)"
      ]
     },
     "execution_count": 41,
     "metadata": {},
     "output_type": "execute_result"
    }
   ],
   "source": [
    "df['truong_1'].unique()"
   ]
  },
  {
   "cell_type": "code",
   "execution_count": 42,
   "metadata": {},
   "outputs": [
    {
     "data": {
      "text/plain": [
       "array([58, 59, 57, 54, 56, 55, 19, 50, 15, 14, 16, 12, 13, 10,  7, 18, 43,\n",
       "       47,  4,  3,  5, 42,  2,  6, 30, 29, 31, 28, 44, 41, 45, 38, 46, 32,\n",
       "       37, 35, 17, 25, 24, 26, 27, 22, 21, 53, 51, 52,  9], dtype=int64)"
      ]
     },
     "execution_count": 42,
     "metadata": {},
     "output_type": "execute_result"
    }
   ],
   "source": [
    "df['truong_2'].unique()"
   ]
  },
  {
   "cell_type": "code",
   "execution_count": 43,
   "metadata": {},
   "outputs": [
    {
     "data": {
      "text/plain": [
       "array([ 3773,  3768,  4036, ...,  7963,   783, 16591], dtype=int64)"
      ]
     },
     "execution_count": 43,
     "metadata": {},
     "output_type": "execute_result"
    }
   ],
   "source": [
    "df['truong_3'].unique()"
   ]
  },
  {
   "cell_type": "code",
   "execution_count": 44,
   "metadata": {},
   "outputs": [
    {
     "data": {
      "text/plain": [
       "array([  299.       ,   249.       ,   419.       , ..., 18254.70588  ,\n",
       "         732.3333333,  2363.285714 ])"
      ]
     },
     "execution_count": 44,
     "metadata": {},
     "output_type": "execute_result"
    }
   ],
   "source": [
    "df['truong_4'].unique()"
   ]
  },
  {
   "cell_type": "code",
   "execution_count": 45,
   "metadata": {},
   "outputs": [
    {
     "data": {
      "text/plain": [
       "array([  1,   2,   3,  -1,   5,   8,   4,  16,   6,   9,   7,  10,  20,\n",
       "        42,  28,  11,  14,  15,  19,  32,  37,  13,  25,  21,  18,  17,\n",
       "        12,  31,  27,  35,  52,  29,  23,  -2,  30,  33,  38,  26,  22,\n",
       "        36,  41,  24,  82,  44,  80,  34, 200, 100,  76,  39,  77,  47,\n",
       "        40, 107,  56,  46,  50,  49,  70,  55,  60,  64,  45,  71,  65,\n",
       "       150,  -3,  85,  57,  89,  43,  58, 217, 104,  84, 168,  92, 156,\n",
       "        68,  48,  62, 264, 110,  83, 133,  51, 148,  54,  67, 106, 109,\n",
       "        61, 102,  90, 288, 171, 131,  87,  78, 151,  59,  -6, 113, 118,\n",
       "       127,  97, 135,  69], dtype=int64)"
      ]
     },
     "execution_count": 45,
     "metadata": {},
     "output_type": "execute_result"
    }
   ],
   "source": [
    "df['truong_5'].unique()"
   ]
  },
  {
   "cell_type": "code",
   "execution_count": 46,
   "metadata": {},
   "outputs": [
    {
     "data": {
      "text/plain": [
       "date        0\n",
       "truong_1    0\n",
       "truong_2    0\n",
       "truong_3    0\n",
       "truong_4    0\n",
       "truong_5    0\n",
       "dtype: int64"
      ]
     },
     "execution_count": 46,
     "metadata": {},
     "output_type": "execute_result"
    }
   ],
   "source": [
    "df.isnull().sum()"
   ]
  },
  {
   "cell_type": "code",
   "execution_count": 47,
   "metadata": {},
   "outputs": [
    {
     "data": {
      "text/plain": [
       "date         object\n",
       "truong_1      int64\n",
       "truong_2      int64\n",
       "truong_3      int64\n",
       "truong_4    float64\n",
       "truong_5      int64\n",
       "dtype: object"
      ]
     },
     "execution_count": 47,
     "metadata": {},
     "output_type": "execute_result"
    }
   ],
   "source": [
    "df.dtypes"
   ]
  },
  {
   "cell_type": "code",
   "execution_count": 48,
   "metadata": {},
   "outputs": [
    {
     "data": {
      "text/html": [
       "<div>\n",
       "<style scoped>\n",
       "    .dataframe tbody tr th:only-of-type {\n",
       "        vertical-align: middle;\n",
       "    }\n",
       "\n",
       "    .dataframe tbody tr th {\n",
       "        vertical-align: top;\n",
       "    }\n",
       "\n",
       "    .dataframe thead th {\n",
       "        text-align: right;\n",
       "    }\n",
       "</style>\n",
       "<table border=\"1\" class=\"dataframe\">\n",
       "  <thead>\n",
       "    <tr style=\"text-align: right;\">\n",
       "      <th></th>\n",
       "      <th>date</th>\n",
       "      <th>truong_1</th>\n",
       "      <th>truong_2</th>\n",
       "      <th>truong_3</th>\n",
       "      <th>truong_4</th>\n",
       "      <th>truong_5</th>\n",
       "    </tr>\n",
       "  </thead>\n",
       "  <tbody>\n",
       "    <tr>\n",
       "      <th>0</th>\n",
       "      <td>2013-05-10</td>\n",
       "      <td>4</td>\n",
       "      <td>58</td>\n",
       "      <td>3773</td>\n",
       "      <td>299.0</td>\n",
       "      <td>1</td>\n",
       "    </tr>\n",
       "    <tr>\n",
       "      <th>1</th>\n",
       "      <td>2013-05-26</td>\n",
       "      <td>4</td>\n",
       "      <td>58</td>\n",
       "      <td>3768</td>\n",
       "      <td>249.0</td>\n",
       "      <td>1</td>\n",
       "    </tr>\n",
       "    <tr>\n",
       "      <th>2</th>\n",
       "      <td>2013-05-19</td>\n",
       "      <td>4</td>\n",
       "      <td>58</td>\n",
       "      <td>4036</td>\n",
       "      <td>419.0</td>\n",
       "      <td>1</td>\n",
       "    </tr>\n",
       "    <tr>\n",
       "      <th>3</th>\n",
       "      <td>2013-05-25</td>\n",
       "      <td>4</td>\n",
       "      <td>58</td>\n",
       "      <td>12878</td>\n",
       "      <td>149.0</td>\n",
       "      <td>1</td>\n",
       "    </tr>\n",
       "    <tr>\n",
       "      <th>4</th>\n",
       "      <td>2013-05-15</td>\n",
       "      <td>4</td>\n",
       "      <td>58</td>\n",
       "      <td>12885</td>\n",
       "      <td>148.0</td>\n",
       "      <td>1</td>\n",
       "    </tr>\n",
       "    <tr>\n",
       "      <th>...</th>\n",
       "      <td>...</td>\n",
       "      <td>...</td>\n",
       "      <td>...</td>\n",
       "      <td>...</td>\n",
       "      <td>...</td>\n",
       "      <td>...</td>\n",
       "    </tr>\n",
       "    <tr>\n",
       "      <th>550033</th>\n",
       "      <td>2013-11-07</td>\n",
       "      <td>10</td>\n",
       "      <td>37</td>\n",
       "      <td>18474</td>\n",
       "      <td>199.0</td>\n",
       "      <td>1</td>\n",
       "    </tr>\n",
       "    <tr>\n",
       "      <th>550034</th>\n",
       "      <td>2013-11-18</td>\n",
       "      <td>10</td>\n",
       "      <td>37</td>\n",
       "      <td>18474</td>\n",
       "      <td>199.0</td>\n",
       "      <td>1</td>\n",
       "    </tr>\n",
       "    <tr>\n",
       "      <th>550035</th>\n",
       "      <td>2013-11-24</td>\n",
       "      <td>10</td>\n",
       "      <td>37</td>\n",
       "      <td>18484</td>\n",
       "      <td>199.0</td>\n",
       "      <td>1</td>\n",
       "    </tr>\n",
       "    <tr>\n",
       "      <th>550036</th>\n",
       "      <td>2013-11-11</td>\n",
       "      <td>10</td>\n",
       "      <td>37</td>\n",
       "      <td>19751</td>\n",
       "      <td>99.0</td>\n",
       "      <td>1</td>\n",
       "    </tr>\n",
       "    <tr>\n",
       "      <th>550037</th>\n",
       "      <td>2013-11-26</td>\n",
       "      <td>10</td>\n",
       "      <td>37</td>\n",
       "      <td>18498</td>\n",
       "      <td>199.0</td>\n",
       "      <td>1</td>\n",
       "    </tr>\n",
       "  </tbody>\n",
       "</table>\n",
       "<p>550038 rows × 6 columns</p>\n",
       "</div>"
      ],
      "text/plain": [
       "             date  truong_1  truong_2  truong_3  truong_4  truong_5\n",
       "0      2013-05-10         4        58      3773     299.0         1\n",
       "1      2013-05-26         4        58      3768     249.0         1\n",
       "2      2013-05-19         4        58      4036     419.0         1\n",
       "3      2013-05-25         4        58     12878     149.0         1\n",
       "4      2013-05-15         4        58     12885     148.0         1\n",
       "...           ...       ...       ...       ...       ...       ...\n",
       "550033 2013-11-07        10        37     18474     199.0         1\n",
       "550034 2013-11-18        10        37     18474     199.0         1\n",
       "550035 2013-11-24        10        37     18484     199.0         1\n",
       "550036 2013-11-11        10        37     19751      99.0         1\n",
       "550037 2013-11-26        10        37     18498     199.0         1\n",
       "\n",
       "[550038 rows x 6 columns]"
      ]
     },
     "execution_count": 48,
     "metadata": {},
     "output_type": "execute_result"
    }
   ],
   "source": [
    "df['date'] = pd.to_datetime(df['date'], format=\"%d.%m.%Y\")\n",
    "df"
   ]
  },
  {
   "cell_type": "code",
   "execution_count": 49,
   "metadata": {},
   "outputs": [
    {
     "data": {
      "text/plain": [
       "Timestamp('2013-11-30 00:00:00')"
      ]
     },
     "execution_count": 49,
     "metadata": {},
     "output_type": "execute_result"
    }
   ],
   "source": [
    "df['date'].max()"
   ]
  },
  {
   "cell_type": "code",
   "execution_count": 50,
   "metadata": {},
   "outputs": [
    {
     "data": {
      "text/plain": [
       "Timestamp('2013-05-01 00:00:00')"
      ]
     },
     "execution_count": 50,
     "metadata": {},
     "output_type": "execute_result"
    }
   ],
   "source": [
    "df['date'].min()"
   ]
  },
  {
   "cell_type": "code",
   "execution_count": 51,
   "metadata": {},
   "outputs": [
    {
     "data": {
      "text/html": [
       "<div>\n",
       "<style scoped>\n",
       "    .dataframe tbody tr th:only-of-type {\n",
       "        vertical-align: middle;\n",
       "    }\n",
       "\n",
       "    .dataframe tbody tr th {\n",
       "        vertical-align: top;\n",
       "    }\n",
       "\n",
       "    .dataframe thead th {\n",
       "        text-align: right;\n",
       "    }\n",
       "</style>\n",
       "<table border=\"1\" class=\"dataframe\">\n",
       "  <thead>\n",
       "    <tr style=\"text-align: right;\">\n",
       "      <th></th>\n",
       "      <th>truong_1</th>\n",
       "      <th>truong_2</th>\n",
       "      <th>truong_3</th>\n",
       "      <th>truong_4</th>\n",
       "      <th>truong_5</th>\n",
       "    </tr>\n",
       "    <tr>\n",
       "      <th>date</th>\n",
       "      <th></th>\n",
       "      <th></th>\n",
       "      <th></th>\n",
       "      <th></th>\n",
       "      <th></th>\n",
       "    </tr>\n",
       "  </thead>\n",
       "  <tbody>\n",
       "    <tr>\n",
       "      <th>2013-05-01</th>\n",
       "      <td>5868</td>\n",
       "      <td>42989</td>\n",
       "      <td>15073926</td>\n",
       "      <td>8.699411e+05</td>\n",
       "      <td>1635</td>\n",
       "    </tr>\n",
       "    <tr>\n",
       "      <th>2013-05-02</th>\n",
       "      <td>5352</td>\n",
       "      <td>39975</td>\n",
       "      <td>14127032</td>\n",
       "      <td>8.025867e+05</td>\n",
       "      <td>1503</td>\n",
       "    </tr>\n",
       "    <tr>\n",
       "      <th>2013-05-03</th>\n",
       "      <td>5136</td>\n",
       "      <td>38414</td>\n",
       "      <td>13050413</td>\n",
       "      <td>8.121575e+05</td>\n",
       "      <td>1413</td>\n",
       "    </tr>\n",
       "    <tr>\n",
       "      <th>2013-05-04</th>\n",
       "      <td>4448</td>\n",
       "      <td>34386</td>\n",
       "      <td>11324760</td>\n",
       "      <td>6.420660e+05</td>\n",
       "      <td>1213</td>\n",
       "    </tr>\n",
       "    <tr>\n",
       "      <th>2013-05-05</th>\n",
       "      <td>4296</td>\n",
       "      <td>33559</td>\n",
       "      <td>11814357</td>\n",
       "      <td>5.800663e+05</td>\n",
       "      <td>1159</td>\n",
       "    </tr>\n",
       "    <tr>\n",
       "      <th>...</th>\n",
       "      <td>...</td>\n",
       "      <td>...</td>\n",
       "      <td>...</td>\n",
       "      <td>...</td>\n",
       "      <td>...</td>\n",
       "    </tr>\n",
       "    <tr>\n",
       "      <th>2013-11-26</th>\n",
       "      <td>4510</td>\n",
       "      <td>13603</td>\n",
       "      <td>5119426</td>\n",
       "      <td>3.712670e+05</td>\n",
       "      <td>548</td>\n",
       "    </tr>\n",
       "    <tr>\n",
       "      <th>2013-11-27</th>\n",
       "      <td>4050</td>\n",
       "      <td>12428</td>\n",
       "      <td>4821249</td>\n",
       "      <td>3.011002e+05</td>\n",
       "      <td>489</td>\n",
       "    </tr>\n",
       "    <tr>\n",
       "      <th>2013-11-28</th>\n",
       "      <td>4660</td>\n",
       "      <td>13724</td>\n",
       "      <td>5349662</td>\n",
       "      <td>3.666039e+05</td>\n",
       "      <td>585</td>\n",
       "    </tr>\n",
       "    <tr>\n",
       "      <th>2013-11-29</th>\n",
       "      <td>7250</td>\n",
       "      <td>21618</td>\n",
       "      <td>8082867</td>\n",
       "      <td>8.222827e+05</td>\n",
       "      <td>1499</td>\n",
       "    </tr>\n",
       "    <tr>\n",
       "      <th>2013-11-30</th>\n",
       "      <td>11350</td>\n",
       "      <td>33605</td>\n",
       "      <td>12449322</td>\n",
       "      <td>1.037198e+06</td>\n",
       "      <td>1522</td>\n",
       "    </tr>\n",
       "  </tbody>\n",
       "</table>\n",
       "<p>214 rows × 5 columns</p>\n",
       "</div>"
      ],
      "text/plain": [
       "            truong_1  truong_2  truong_3      truong_4  truong_5\n",
       "date                                                            \n",
       "2013-05-01      5868     42989  15073926  8.699411e+05      1635\n",
       "2013-05-02      5352     39975  14127032  8.025867e+05      1503\n",
       "2013-05-03      5136     38414  13050413  8.121575e+05      1413\n",
       "2013-05-04      4448     34386  11324760  6.420660e+05      1213\n",
       "2013-05-05      4296     33559  11814357  5.800663e+05      1159\n",
       "...              ...       ...       ...           ...       ...\n",
       "2013-11-26      4510     13603   5119426  3.712670e+05       548\n",
       "2013-11-27      4050     12428   4821249  3.011002e+05       489\n",
       "2013-11-28      4660     13724   5349662  3.666039e+05       585\n",
       "2013-11-29      7250     21618   8082867  8.222827e+05      1499\n",
       "2013-11-30     11350     33605  12449322  1.037198e+06      1522\n",
       "\n",
       "[214 rows x 5 columns]"
      ]
     },
     "execution_count": 51,
     "metadata": {},
     "output_type": "execute_result"
    }
   ],
   "source": [
    "df = df.groupby('date').sum()\n",
    "df"
   ]
  },
  {
   "cell_type": "code",
   "execution_count": 52,
   "metadata": {},
   "outputs": [],
   "source": [
    "train_df = df[:-15]\n",
    "test_df = df[-15:]"
   ]
  },
  {
   "cell_type": "markdown",
   "metadata": {},
   "source": [
    "### SARIMA"
   ]
  },
  {
   "cell_type": "code",
   "execution_count": 33,
   "metadata": {},
   "outputs": [
    {
     "name": "stdout",
     "output_type": "stream",
     "text": [
      "                                       SARIMAX Results                                        \n",
      "==============================================================================================\n",
      "Dep. Variable:                                      y   No. Observations:                  199\n",
      "Model:             SARIMAX(3, 0, 3)x(0, 1, [1, 2], 6)   Log Likelihood               -3293.894\n",
      "Date:                                Tue, 04 Jun 2024   AIC                           6607.788\n",
      "Time:                                        11:23:23   BIC                           6640.415\n",
      "Sample:                                             0   HQIC                          6621.001\n",
      "                                                - 199                                         \n",
      "Covariance Type:                                  opg                                         \n",
      "==============================================================================\n",
      "                 coef    std err          z      P>|z|      [0.025      0.975]\n",
      "------------------------------------------------------------------------------\n",
      "intercept  -7.598e+04    1.6e+05     -0.474      0.635    -3.9e+05    2.38e+05\n",
      "ar.L1          0.5858      0.113      5.203      0.000       0.365       0.807\n",
      "ar.L2         -0.3239      0.097     -3.344      0.001      -0.514      -0.134\n",
      "ar.L3          0.7074      0.094      7.494      0.000       0.522       0.892\n",
      "ma.L1          0.2141      0.136      1.573      0.116      -0.053       0.481\n",
      "ma.L2          0.2054      0.134      1.530      0.126      -0.058       0.469\n",
      "ma.L3         -0.7576      0.123     -6.161      0.000      -0.999      -0.517\n",
      "ma.S.L6       -0.5006      0.201     -2.496      0.013      -0.894      -0.108\n",
      "ma.S.L12      -0.3417      0.149     -2.295      0.022      -0.634      -0.050\n",
      "sigma2       4.64e+13      0.000    1.2e+17      0.000    4.64e+13    4.64e+13\n",
      "===================================================================================\n",
      "Ljung-Box (L1) (Q):                   1.18   Jarque-Bera (JB):               203.99\n",
      "Prob(Q):                              0.28   Prob(JB):                         0.00\n",
      "Heteroskedasticity (H):               1.37   Skew:                             0.65\n",
      "Prob(H) (two-sided):                  0.21   Kurtosis:                         7.87\n",
      "===================================================================================\n",
      "\n",
      "Warnings:\n",
      "[1] Covariance matrix calculated using the outer product of gradients (complex-step).\n",
      "[2] Covariance matrix is singular or near-singular, with condition number 9.69e+32. Standard errors may be unstable.\n"
     ]
    }
   ],
   "source": [
    "SARIMA_model = auto_arima(train_df[\"truong_3\"].values.reshape(-1,1), start_p=1, start_q=1,\n",
    "                         test='adf',\n",
    "                         max_p=3, max_q=3, \n",
    "                         m=6, #12 is the frequncy of the cycle\n",
    "                         start_P=0, \n",
    "                         seasonal=True, #set to seasonal\n",
    "                         d=None, \n",
    "                         D=1, #order of the seasonal differencing\n",
    "                         trace=False,\n",
    "                         error_action='ignore',  \n",
    "                         suppress_warnings=True, \n",
    "                         stepwise=True)\n",
    "print(SARIMA_model.summary())"
   ]
  },
  {
   "cell_type": "code",
   "execution_count": 34,
   "metadata": {},
   "outputs": [
    {
     "name": "stderr",
     "output_type": "stream",
     "text": [
      "c:\\Users\\chimi\\AppData\\Local\\Programs\\Python\\Python310\\lib\\site-packages\\statsmodels\\tsa\\statespace\\sarimax.py:966: UserWarning: Non-stationary starting autoregressive parameters found. Using zeros as starting parameters.\n",
      "  warn('Non-stationary starting autoregressive parameters'\n",
      "c:\\Users\\chimi\\AppData\\Local\\Programs\\Python\\Python310\\lib\\site-packages\\statsmodels\\tsa\\statespace\\sarimax.py:978: UserWarning: Non-invertible starting MA parameters found. Using zeros as starting parameters.\n",
      "  warn('Non-invertible starting MA parameters found.'\n"
     ]
    }
   ],
   "source": [
    "sarima = SARIMAX(train_df['truong_3'].values.reshape(-1,1), \n",
    "                 order=(3,0,3),\n",
    "                 seasonal_order=(0,1,1,6)).fit()\n",
    "predictions = sarima.forecast(steps=15)"
   ]
  },
  {
   "cell_type": "code",
   "execution_count": 35,
   "metadata": {},
   "outputs": [
    {
     "name": "stdout",
     "output_type": "stream",
     "text": [
      "[13567872.20421633  8766492.19063009  5522900.05023702  8993324.01111514\n",
      "  9763000.33065032  6295071.28044943  7981220.69847396  9705939.05283633\n",
      "  9134622.64251914  7257367.09037431  8014952.86789734  8191550.76267416\n",
      "  8653017.40770317  8309658.48232327  9270764.61885987]\n"
     ]
    }
   ],
   "source": [
    "print(predictions)"
   ]
  },
  {
   "cell_type": "code",
   "execution_count": 38,
   "metadata": {},
   "outputs": [
    {
     "data": {
      "image/png": "[encoded data removed]",
      "text/plain": [
       "<Figure size 1200x600 with 1 Axes>"
      ]
     },
     "metadata": {},
     "output_type": "display_data"
    }
   ],
   "source": [
    "predicted_df = pd.DataFrame(predictions, index=test_df.index, columns=['predicted_truong3'])\n",
    "\n",
    "plt.figure(figsize=(12, 6))\n",
    "\n",
    "plt.plot(df['truong_3'], label='Thực tế', color='blue')\n",
    "\n",
    "plt.plot(predicted_df['predicted_truong3'], label='Dự đoán', color='orange')\n",
    "\n",
    "plt.xlabel('Ngày')\n",
    "plt.ylabel('Giá trị')\n",
    "plt.title('Giá trị thực tế và dự đoán')\n",
    "plt.legend()\n",
    "plt.show()"
   ]
  },
  {
   "cell_type": "markdown",
   "metadata": {},
   "source": [
    "### ARIMAX"
   ]
  },
  {
   "cell_type": "code",
   "execution_count": 53,
   "metadata": {},
   "outputs": [
    {
     "name": "stdout",
     "output_type": "stream",
     "text": [
      "Performing stepwise search to minimize aic\n",
      " ARIMA(2,1,2)(0,0,0)[0] intercept   : AIC=6791.298, Time=0.09 sec\n",
      " ARIMA(0,1,0)(0,0,0)[0] intercept   : AIC=6849.500, Time=0.01 sec\n",
      " ARIMA(1,1,0)(0,0,0)[0] intercept   : AIC=6850.616, Time=0.01 sec\n",
      " ARIMA(0,1,1)(0,0,0)[0] intercept   : AIC=6847.529, Time=0.02 sec\n",
      " ARIMA(0,1,0)(0,0,0)[0]             : AIC=6847.506, Time=0.00 sec\n",
      " ARIMA(1,1,2)(0,0,0)[0] intercept   : AIC=6798.768, Time=0.05 sec\n",
      " ARIMA(2,1,1)(0,0,0)[0] intercept   : AIC=6787.824, Time=0.05 sec\n",
      " ARIMA(1,1,1)(0,0,0)[0] intercept   : AIC=6841.130, Time=0.04 sec\n",
      " ARIMA(2,1,0)(0,0,0)[0] intercept   : AIC=6812.367, Time=0.02 sec\n",
      " ARIMA(3,1,1)(0,0,0)[0] intercept   : AIC=6789.805, Time=0.09 sec\n",
      " ARIMA(3,1,0)(0,0,0)[0] intercept   : AIC=6813.181, Time=0.03 sec\n",
      " ARIMA(3,1,2)(0,0,0)[0] intercept   : AIC=6808.081, Time=0.11 sec\n",
      " ARIMA(2,1,1)(0,0,0)[0]             : AIC=6785.786, Time=0.04 sec\n",
      " ARIMA(1,1,1)(0,0,0)[0]             : AIC=6839.131, Time=0.03 sec\n",
      " ARIMA(2,1,0)(0,0,0)[0]             : AIC=6810.366, Time=0.02 sec\n",
      " ARIMA(3,1,1)(0,0,0)[0]             : AIC=6787.764, Time=0.08 sec\n",
      " ARIMA(2,1,2)(0,0,0)[0]             : AIC=6788.918, Time=0.08 sec\n",
      " ARIMA(1,1,0)(0,0,0)[0]             : AIC=6848.619, Time=0.01 sec\n",
      " ARIMA(1,1,2)(0,0,0)[0]             : AIC=6796.265, Time=0.04 sec\n",
      " ARIMA(3,1,0)(0,0,0)[0]             : AIC=6811.181, Time=0.02 sec\n",
      " ARIMA(3,1,2)(0,0,0)[0]             : AIC=6805.825, Time=0.10 sec\n",
      "\n",
      "Best model:  ARIMA(2,1,1)(0,0,0)[0]          \n",
      "Total fit time: 0.934 seconds\n",
      "                               SARIMAX Results                                \n",
      "==============================================================================\n",
      "Dep. Variable:                      y   No. Observations:                  199\n",
      "Model:               SARIMAX(2, 1, 1)   Log Likelihood               -3388.893\n",
      "Date:                Tue, 04 Jun 2024   AIC                           6785.786\n",
      "Time:                        11:57:23   BIC                           6798.939\n",
      "Sample:                             0   HQIC                          6791.110\n",
      "                                - 199                                         \n",
      "Covariance Type:                  opg                                         \n",
      "==============================================================================\n",
      "                 coef    std err          z      P>|z|      [0.025      0.975]\n",
      "------------------------------------------------------------------------------\n",
      "ar.L1          0.6168      0.105      5.884      0.000       0.411       0.822\n",
      "ar.L2         -0.4529      0.081     -5.594      0.000      -0.612      -0.294\n",
      "ma.L1         -0.7452      0.084     -8.899      0.000      -0.909      -0.581\n",
      "sigma2      4.972e+13   1.24e-15   4.01e+28      0.000    4.97e+13    4.97e+13\n",
      "===================================================================================\n",
      "Ljung-Box (L1) (Q):                   0.01   Jarque-Bera (JB):               234.01\n",
      "Prob(Q):                              0.91   Prob(JB):                         0.00\n",
      "Heteroskedasticity (H):               1.65   Skew:                             1.25\n",
      "Prob(H) (two-sided):                  0.04   Kurtosis:                         7.70\n",
      "===================================================================================\n",
      "\n",
      "Warnings:\n",
      "[1] Covariance matrix calculated using the outer product of gradients (complex-step).\n",
      "[2] Covariance matrix is singular or near-singular, with condition number 3.44e+43. Standard errors may be unstable.\n"
     ]
    }
   ],
   "source": [
    "ARIMAX_model = auto_arima(train_df['truong_3'].values.reshape(-1,1), \n",
    "                   exogenous=train_df['truong_1'], \n",
    "                   trace=True, \n",
    "                   error_action=\"ignore\", \n",
    "                   suppress_warnings=True)\n",
    "print(ARIMAX_model.summary())"
   ]
  },
  {
   "cell_type": "code",
   "execution_count": 60,
   "metadata": {},
   "outputs": [
    {
     "name": "stderr",
     "output_type": "stream",
     "text": [
      "c:\\Users\\chimi\\AppData\\Local\\Programs\\Python\\Python310\\lib\\site-packages\\statsmodels\\tsa\\statespace\\representation.py:374: FutureWarning: Unknown keyword arguments: dict_keys(['exogenous']).Passing unknown keyword arguments will raise a TypeError beginning in version 0.15.\n",
      "  warnings.warn(msg, FutureWarning)\n"
     ]
    }
   ],
   "source": [
    "arimax = SARIMAX(train_df['truong_3'].values.reshape(-1,1), \n",
    "                 order=(2,1,1),\n",
    "                 exogenous=train_df['truong_1']).fit()\n",
    "predictions = arimax.forecast(steps=15)"
   ]
  },
  {
   "cell_type": "code",
   "execution_count": 61,
   "metadata": {},
   "outputs": [
    {
     "name": "stdout",
     "output_type": "stream",
     "text": [
      "[9243961.66582364 7923133.69866837 6860167.99971043 6802811.18716472\n",
      " 7248878.25622454 7549971.26232691 7533638.0184111  7387192.25529828\n",
      " 7304268.59475166 7319453.63310632 7366377.18691616 7388439.9301431\n",
      " 7380794.48475838 7366086.36967588 7360477.84717577]\n"
     ]
    }
   ],
   "source": [
    "print(predictions)"
   ]
  },
  {
   "cell_type": "code",
   "execution_count": 62,
   "metadata": {},
   "outputs": [
    {
     "data": {
      "image/png": "[encoded data removed]",
      "text/plain": [
       "<Figure size 1200x600 with 1 Axes>"
      ]
     },
     "metadata": {},
     "output_type": "display_data"
    }
   ],
   "source": [
    "predicted_df = pd.DataFrame(predictions, index=test_df.index, columns=['predicted_truong3'])\n",
    "\n",
    "plt.figure(figsize=(12, 6))\n",
    "\n",
    "plt.plot(df['truong_3'], label='Thực tế', color='blue')\n",
    "\n",
    "plt.plot(predicted_df['predicted_truong3'], label='Dự đoán', color='orange')\n",
    "\n",
    "plt.xlabel('Ngày')\n",
    "plt.ylabel('Giá trị')\n",
    "plt.title('Giá trị thực tế và dự đoán')\n",
    "plt.legend()\n",
    "plt.show()"
   ]
  }
 ],
 "metadata": {
  "kernelspec": {
   "display_name": "Python 3",
   "language": "python",
   "name": "python3"
  },
  "language_info": {
   "codemirror_mode": {
    "name": "ipython",
    "version": 3
   },
   "file_extension": ".py",
   "mimetype": "text/x-python",
   "name": "python",
   "nbconvert_exporter": "python",
   "pygments_lexer": "ipython3",
   "version": "3.10.5"
  }
 },
 "nbformat": 4,
 "nbformat_minor": 2
}
